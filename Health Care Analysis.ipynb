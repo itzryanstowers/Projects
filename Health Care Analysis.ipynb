{
 "cells": [
  {
   "cell_type": "code",
   "execution_count": 1,
   "id": "b1d976ec",
   "metadata": {},
   "outputs": [],
   "source": [
    "import pandas as pd\n",
    "import numpy as np\n",
    "import matplotlib.pyplot as plt\n",
    "import seaborn as sns"
   ]
  },
  {
   "cell_type": "code",
   "execution_count": 2,
   "id": "064cc629",
   "metadata": {},
   "outputs": [],
   "source": [
    "df = pd.read_csv(\"Health Care Data.csv\")"
   ]
  },
  {
   "cell_type": "code",
   "execution_count": 25,
   "id": "f5a40be3",
   "metadata": {},
   "outputs": [
    {
     "data": {
      "text/html": [
       "<div>\n",
       "<style scoped>\n",
       "    .dataframe tbody tr th:only-of-type {\n",
       "        vertical-align: middle;\n",
       "    }\n",
       "\n",
       "    .dataframe tbody tr th {\n",
       "        vertical-align: top;\n",
       "    }\n",
       "\n",
       "    .dataframe thead th {\n",
       "        text-align: right;\n",
       "    }\n",
       "</style>\n",
       "<table border=\"1\" class=\"dataframe\">\n",
       "  <thead>\n",
       "    <tr style=\"text-align: right;\">\n",
       "      <th></th>\n",
       "      <th>age</th>\n",
       "      <th>sex</th>\n",
       "      <th>cp</th>\n",
       "      <th>trestbps</th>\n",
       "      <th>chol</th>\n",
       "      <th>fbs</th>\n",
       "      <th>restecg</th>\n",
       "      <th>thalach</th>\n",
       "      <th>exang</th>\n",
       "      <th>oldpeak</th>\n",
       "      <th>slope</th>\n",
       "      <th>ca</th>\n",
       "      <th>thal</th>\n",
       "      <th>target</th>\n",
       "    </tr>\n",
       "  </thead>\n",
       "  <tbody>\n",
       "    <tr>\n",
       "      <th>0</th>\n",
       "      <td>63</td>\n",
       "      <td>1</td>\n",
       "      <td>3</td>\n",
       "      <td>145</td>\n",
       "      <td>233</td>\n",
       "      <td>1</td>\n",
       "      <td>0</td>\n",
       "      <td>150</td>\n",
       "      <td>0</td>\n",
       "      <td>2.3</td>\n",
       "      <td>0</td>\n",
       "      <td>0</td>\n",
       "      <td>1</td>\n",
       "      <td>1</td>\n",
       "    </tr>\n",
       "    <tr>\n",
       "      <th>1</th>\n",
       "      <td>37</td>\n",
       "      <td>1</td>\n",
       "      <td>2</td>\n",
       "      <td>130</td>\n",
       "      <td>250</td>\n",
       "      <td>0</td>\n",
       "      <td>1</td>\n",
       "      <td>187</td>\n",
       "      <td>0</td>\n",
       "      <td>3.5</td>\n",
       "      <td>0</td>\n",
       "      <td>0</td>\n",
       "      <td>2</td>\n",
       "      <td>1</td>\n",
       "    </tr>\n",
       "    <tr>\n",
       "      <th>2</th>\n",
       "      <td>41</td>\n",
       "      <td>0</td>\n",
       "      <td>1</td>\n",
       "      <td>130</td>\n",
       "      <td>204</td>\n",
       "      <td>0</td>\n",
       "      <td>0</td>\n",
       "      <td>172</td>\n",
       "      <td>0</td>\n",
       "      <td>1.4</td>\n",
       "      <td>2</td>\n",
       "      <td>0</td>\n",
       "      <td>2</td>\n",
       "      <td>1</td>\n",
       "    </tr>\n",
       "    <tr>\n",
       "      <th>3</th>\n",
       "      <td>56</td>\n",
       "      <td>1</td>\n",
       "      <td>1</td>\n",
       "      <td>120</td>\n",
       "      <td>236</td>\n",
       "      <td>0</td>\n",
       "      <td>1</td>\n",
       "      <td>178</td>\n",
       "      <td>0</td>\n",
       "      <td>0.8</td>\n",
       "      <td>2</td>\n",
       "      <td>0</td>\n",
       "      <td>2</td>\n",
       "      <td>1</td>\n",
       "    </tr>\n",
       "    <tr>\n",
       "      <th>4</th>\n",
       "      <td>57</td>\n",
       "      <td>0</td>\n",
       "      <td>0</td>\n",
       "      <td>120</td>\n",
       "      <td>354</td>\n",
       "      <td>0</td>\n",
       "      <td>1</td>\n",
       "      <td>163</td>\n",
       "      <td>1</td>\n",
       "      <td>0.6</td>\n",
       "      <td>2</td>\n",
       "      <td>0</td>\n",
       "      <td>2</td>\n",
       "      <td>1</td>\n",
       "    </tr>\n",
       "    <tr>\n",
       "      <th>5</th>\n",
       "      <td>57</td>\n",
       "      <td>1</td>\n",
       "      <td>0</td>\n",
       "      <td>140</td>\n",
       "      <td>192</td>\n",
       "      <td>0</td>\n",
       "      <td>1</td>\n",
       "      <td>148</td>\n",
       "      <td>0</td>\n",
       "      <td>0.4</td>\n",
       "      <td>1</td>\n",
       "      <td>0</td>\n",
       "      <td>1</td>\n",
       "      <td>1</td>\n",
       "    </tr>\n",
       "    <tr>\n",
       "      <th>6</th>\n",
       "      <td>56</td>\n",
       "      <td>0</td>\n",
       "      <td>1</td>\n",
       "      <td>140</td>\n",
       "      <td>294</td>\n",
       "      <td>0</td>\n",
       "      <td>0</td>\n",
       "      <td>153</td>\n",
       "      <td>0</td>\n",
       "      <td>1.3</td>\n",
       "      <td>1</td>\n",
       "      <td>0</td>\n",
       "      <td>2</td>\n",
       "      <td>1</td>\n",
       "    </tr>\n",
       "    <tr>\n",
       "      <th>7</th>\n",
       "      <td>44</td>\n",
       "      <td>1</td>\n",
       "      <td>1</td>\n",
       "      <td>120</td>\n",
       "      <td>263</td>\n",
       "      <td>0</td>\n",
       "      <td>1</td>\n",
       "      <td>173</td>\n",
       "      <td>0</td>\n",
       "      <td>0.0</td>\n",
       "      <td>2</td>\n",
       "      <td>0</td>\n",
       "      <td>3</td>\n",
       "      <td>1</td>\n",
       "    </tr>\n",
       "    <tr>\n",
       "      <th>8</th>\n",
       "      <td>52</td>\n",
       "      <td>1</td>\n",
       "      <td>2</td>\n",
       "      <td>172</td>\n",
       "      <td>199</td>\n",
       "      <td>1</td>\n",
       "      <td>1</td>\n",
       "      <td>162</td>\n",
       "      <td>0</td>\n",
       "      <td>0.5</td>\n",
       "      <td>2</td>\n",
       "      <td>0</td>\n",
       "      <td>3</td>\n",
       "      <td>1</td>\n",
       "    </tr>\n",
       "    <tr>\n",
       "      <th>9</th>\n",
       "      <td>57</td>\n",
       "      <td>1</td>\n",
       "      <td>2</td>\n",
       "      <td>150</td>\n",
       "      <td>168</td>\n",
       "      <td>0</td>\n",
       "      <td>1</td>\n",
       "      <td>174</td>\n",
       "      <td>0</td>\n",
       "      <td>1.6</td>\n",
       "      <td>2</td>\n",
       "      <td>0</td>\n",
       "      <td>2</td>\n",
       "      <td>1</td>\n",
       "    </tr>\n",
       "  </tbody>\n",
       "</table>\n",
       "</div>"
      ],
      "text/plain": [
       "   age  sex  cp  trestbps  chol  fbs  restecg  thalach  exang  oldpeak  slope  \\\n",
       "0   63    1   3       145   233    1        0      150      0      2.3      0   \n",
       "1   37    1   2       130   250    0        1      187      0      3.5      0   \n",
       "2   41    0   1       130   204    0        0      172      0      1.4      2   \n",
       "3   56    1   1       120   236    0        1      178      0      0.8      2   \n",
       "4   57    0   0       120   354    0        1      163      1      0.6      2   \n",
       "5   57    1   0       140   192    0        1      148      0      0.4      1   \n",
       "6   56    0   1       140   294    0        0      153      0      1.3      1   \n",
       "7   44    1   1       120   263    0        1      173      0      0.0      2   \n",
       "8   52    1   2       172   199    1        1      162      0      0.5      2   \n",
       "9   57    1   2       150   168    0        1      174      0      1.6      2   \n",
       "\n",
       "   ca  thal  target  \n",
       "0   0     1       1  \n",
       "1   0     2       1  \n",
       "2   0     2       1  \n",
       "3   0     2       1  \n",
       "4   0     2       1  \n",
       "5   0     1       1  \n",
       "6   0     2       1  \n",
       "7   0     3       1  \n",
       "8   0     3       1  \n",
       "9   0     2       1  "
      ]
     },
     "execution_count": 25,
     "metadata": {},
     "output_type": "execute_result"
    }
   ],
   "source": [
    "df.head(10)"
   ]
  },
  {
   "cell_type": "code",
   "execution_count": 26,
   "id": "a5318a12",
   "metadata": {},
   "outputs": [
    {
     "data": {
      "text/plain": [
       "(303, 14)"
      ]
     },
     "execution_count": 26,
     "metadata": {},
     "output_type": "execute_result"
    }
   ],
   "source": [
    "df.shape"
   ]
  },
  {
   "cell_type": "code",
   "execution_count": 27,
   "id": "ce40931f",
   "metadata": {},
   "outputs": [
    {
     "data": {
      "text/plain": [
       "['age',\n",
       " 'sex',\n",
       " 'cp',\n",
       " 'trestbps',\n",
       " 'chol',\n",
       " 'fbs',\n",
       " 'restecg',\n",
       " 'thalach',\n",
       " 'exang',\n",
       " 'oldpeak',\n",
       " 'slope',\n",
       " 'ca',\n",
       " 'thal',\n",
       " 'target']"
      ]
     },
     "execution_count": 27,
     "metadata": {},
     "output_type": "execute_result"
    }
   ],
   "source": [
    "list(df.columns)"
   ]
  },
  {
   "cell_type": "code",
   "execution_count": 28,
   "id": "50878bd8",
   "metadata": {},
   "outputs": [
    {
     "name": "stdout",
     "output_type": "stream",
     "text": [
      "<class 'pandas.core.frame.DataFrame'>\n",
      "RangeIndex: 303 entries, 0 to 302\n",
      "Data columns (total 14 columns):\n",
      " #   Column    Non-Null Count  Dtype  \n",
      "---  ------    --------------  -----  \n",
      " 0   age       303 non-null    int64  \n",
      " 1   sex       303 non-null    int64  \n",
      " 2   cp        303 non-null    int64  \n",
      " 3   trestbps  303 non-null    int64  \n",
      " 4   chol      303 non-null    int64  \n",
      " 5   fbs       303 non-null    int64  \n",
      " 6   restecg   303 non-null    int64  \n",
      " 7   thalach   303 non-null    int64  \n",
      " 8   exang     303 non-null    int64  \n",
      " 9   oldpeak   303 non-null    float64\n",
      " 10  slope     303 non-null    int64  \n",
      " 11  ca        303 non-null    int64  \n",
      " 12  thal      303 non-null    int64  \n",
      " 13  target    303 non-null    int64  \n",
      "dtypes: float64(1), int64(13)\n",
      "memory usage: 33.3 KB\n"
     ]
    }
   ],
   "source": [
    "df.info()"
   ]
  },
  {
   "cell_type": "markdown",
   "id": "8e73e51b",
   "metadata": {},
   "source": [
    "# Statistical summary of data."
   ]
  },
  {
   "cell_type": "code",
   "execution_count": 30,
   "id": "c3b17264",
   "metadata": {},
   "outputs": [
    {
     "data": {
      "text/html": [
       "<div>\n",
       "<style scoped>\n",
       "    .dataframe tbody tr th:only-of-type {\n",
       "        vertical-align: middle;\n",
       "    }\n",
       "\n",
       "    .dataframe tbody tr th {\n",
       "        vertical-align: top;\n",
       "    }\n",
       "\n",
       "    .dataframe thead th {\n",
       "        text-align: right;\n",
       "    }\n",
       "</style>\n",
       "<table border=\"1\" class=\"dataframe\">\n",
       "  <thead>\n",
       "    <tr style=\"text-align: right;\">\n",
       "      <th></th>\n",
       "      <th>age</th>\n",
       "      <th>sex</th>\n",
       "      <th>cp</th>\n",
       "      <th>trestbps</th>\n",
       "      <th>chol</th>\n",
       "      <th>fbs</th>\n",
       "      <th>restecg</th>\n",
       "      <th>thalach</th>\n",
       "      <th>exang</th>\n",
       "      <th>oldpeak</th>\n",
       "      <th>slope</th>\n",
       "      <th>ca</th>\n",
       "      <th>thal</th>\n",
       "      <th>target</th>\n",
       "    </tr>\n",
       "  </thead>\n",
       "  <tbody>\n",
       "    <tr>\n",
       "      <th>count</th>\n",
       "      <td>303.000000</td>\n",
       "      <td>303.000000</td>\n",
       "      <td>303.000000</td>\n",
       "      <td>303.000000</td>\n",
       "      <td>303.000000</td>\n",
       "      <td>303.000000</td>\n",
       "      <td>303.000000</td>\n",
       "      <td>303.000000</td>\n",
       "      <td>303.000000</td>\n",
       "      <td>303.000000</td>\n",
       "      <td>303.000000</td>\n",
       "      <td>303.000000</td>\n",
       "      <td>303.000000</td>\n",
       "      <td>303.000000</td>\n",
       "    </tr>\n",
       "    <tr>\n",
       "      <th>mean</th>\n",
       "      <td>54.366337</td>\n",
       "      <td>0.683168</td>\n",
       "      <td>0.966997</td>\n",
       "      <td>131.623762</td>\n",
       "      <td>246.264026</td>\n",
       "      <td>0.148515</td>\n",
       "      <td>0.528053</td>\n",
       "      <td>149.646865</td>\n",
       "      <td>0.326733</td>\n",
       "      <td>1.039604</td>\n",
       "      <td>1.399340</td>\n",
       "      <td>0.729373</td>\n",
       "      <td>2.313531</td>\n",
       "      <td>0.544554</td>\n",
       "    </tr>\n",
       "    <tr>\n",
       "      <th>std</th>\n",
       "      <td>9.082101</td>\n",
       "      <td>0.466011</td>\n",
       "      <td>1.032052</td>\n",
       "      <td>17.538143</td>\n",
       "      <td>51.830751</td>\n",
       "      <td>0.356198</td>\n",
       "      <td>0.525860</td>\n",
       "      <td>22.905161</td>\n",
       "      <td>0.469794</td>\n",
       "      <td>1.161075</td>\n",
       "      <td>0.616226</td>\n",
       "      <td>1.022606</td>\n",
       "      <td>0.612277</td>\n",
       "      <td>0.498835</td>\n",
       "    </tr>\n",
       "    <tr>\n",
       "      <th>min</th>\n",
       "      <td>29.000000</td>\n",
       "      <td>0.000000</td>\n",
       "      <td>0.000000</td>\n",
       "      <td>94.000000</td>\n",
       "      <td>126.000000</td>\n",
       "      <td>0.000000</td>\n",
       "      <td>0.000000</td>\n",
       "      <td>71.000000</td>\n",
       "      <td>0.000000</td>\n",
       "      <td>0.000000</td>\n",
       "      <td>0.000000</td>\n",
       "      <td>0.000000</td>\n",
       "      <td>0.000000</td>\n",
       "      <td>0.000000</td>\n",
       "    </tr>\n",
       "    <tr>\n",
       "      <th>25%</th>\n",
       "      <td>47.500000</td>\n",
       "      <td>0.000000</td>\n",
       "      <td>0.000000</td>\n",
       "      <td>120.000000</td>\n",
       "      <td>211.000000</td>\n",
       "      <td>0.000000</td>\n",
       "      <td>0.000000</td>\n",
       "      <td>133.500000</td>\n",
       "      <td>0.000000</td>\n",
       "      <td>0.000000</td>\n",
       "      <td>1.000000</td>\n",
       "      <td>0.000000</td>\n",
       "      <td>2.000000</td>\n",
       "      <td>0.000000</td>\n",
       "    </tr>\n",
       "    <tr>\n",
       "      <th>50%</th>\n",
       "      <td>55.000000</td>\n",
       "      <td>1.000000</td>\n",
       "      <td>1.000000</td>\n",
       "      <td>130.000000</td>\n",
       "      <td>240.000000</td>\n",
       "      <td>0.000000</td>\n",
       "      <td>1.000000</td>\n",
       "      <td>153.000000</td>\n",
       "      <td>0.000000</td>\n",
       "      <td>0.800000</td>\n",
       "      <td>1.000000</td>\n",
       "      <td>0.000000</td>\n",
       "      <td>2.000000</td>\n",
       "      <td>1.000000</td>\n",
       "    </tr>\n",
       "    <tr>\n",
       "      <th>75%</th>\n",
       "      <td>61.000000</td>\n",
       "      <td>1.000000</td>\n",
       "      <td>2.000000</td>\n",
       "      <td>140.000000</td>\n",
       "      <td>274.500000</td>\n",
       "      <td>0.000000</td>\n",
       "      <td>1.000000</td>\n",
       "      <td>166.000000</td>\n",
       "      <td>1.000000</td>\n",
       "      <td>1.600000</td>\n",
       "      <td>2.000000</td>\n",
       "      <td>1.000000</td>\n",
       "      <td>3.000000</td>\n",
       "      <td>1.000000</td>\n",
       "    </tr>\n",
       "    <tr>\n",
       "      <th>max</th>\n",
       "      <td>77.000000</td>\n",
       "      <td>1.000000</td>\n",
       "      <td>3.000000</td>\n",
       "      <td>200.000000</td>\n",
       "      <td>564.000000</td>\n",
       "      <td>1.000000</td>\n",
       "      <td>2.000000</td>\n",
       "      <td>202.000000</td>\n",
       "      <td>1.000000</td>\n",
       "      <td>6.200000</td>\n",
       "      <td>2.000000</td>\n",
       "      <td>4.000000</td>\n",
       "      <td>3.000000</td>\n",
       "      <td>1.000000</td>\n",
       "    </tr>\n",
       "  </tbody>\n",
       "</table>\n",
       "</div>"
      ],
      "text/plain": [
       "              age         sex          cp    trestbps        chol         fbs  \\\n",
       "count  303.000000  303.000000  303.000000  303.000000  303.000000  303.000000   \n",
       "mean    54.366337    0.683168    0.966997  131.623762  246.264026    0.148515   \n",
       "std      9.082101    0.466011    1.032052   17.538143   51.830751    0.356198   \n",
       "min     29.000000    0.000000    0.000000   94.000000  126.000000    0.000000   \n",
       "25%     47.500000    0.000000    0.000000  120.000000  211.000000    0.000000   \n",
       "50%     55.000000    1.000000    1.000000  130.000000  240.000000    0.000000   \n",
       "75%     61.000000    1.000000    2.000000  140.000000  274.500000    0.000000   \n",
       "max     77.000000    1.000000    3.000000  200.000000  564.000000    1.000000   \n",
       "\n",
       "          restecg     thalach       exang     oldpeak       slope          ca  \\\n",
       "count  303.000000  303.000000  303.000000  303.000000  303.000000  303.000000   \n",
       "mean     0.528053  149.646865    0.326733    1.039604    1.399340    0.729373   \n",
       "std      0.525860   22.905161    0.469794    1.161075    0.616226    1.022606   \n",
       "min      0.000000   71.000000    0.000000    0.000000    0.000000    0.000000   \n",
       "25%      0.000000  133.500000    0.000000    0.000000    1.000000    0.000000   \n",
       "50%      1.000000  153.000000    0.000000    0.800000    1.000000    0.000000   \n",
       "75%      1.000000  166.000000    1.000000    1.600000    2.000000    1.000000   \n",
       "max      2.000000  202.000000    1.000000    6.200000    2.000000    4.000000   \n",
       "\n",
       "             thal      target  \n",
       "count  303.000000  303.000000  \n",
       "mean     2.313531    0.544554  \n",
       "std      0.612277    0.498835  \n",
       "min      0.000000    0.000000  \n",
       "25%      2.000000    0.000000  \n",
       "50%      2.000000    1.000000  \n",
       "75%      3.000000    1.000000  \n",
       "max      3.000000    1.000000  "
      ]
     },
     "execution_count": 30,
     "metadata": {},
     "output_type": "execute_result"
    }
   ],
   "source": [
    "df.describe()"
   ]
  },
  {
   "cell_type": "code",
   "execution_count": 31,
   "id": "31e5a85c",
   "metadata": {},
   "outputs": [
    {
     "data": {
      "text/plain": [
       "<bound method NDFrame.describe of      age  sex  cp  trestbps  chol  fbs  restecg  thalach  exang  oldpeak  \\\n",
       "0     63    1   3       145   233    1        0      150      0      2.3   \n",
       "1     37    1   2       130   250    0        1      187      0      3.5   \n",
       "2     41    0   1       130   204    0        0      172      0      1.4   \n",
       "3     56    1   1       120   236    0        1      178      0      0.8   \n",
       "4     57    0   0       120   354    0        1      163      1      0.6   \n",
       "..   ...  ...  ..       ...   ...  ...      ...      ...    ...      ...   \n",
       "298   57    0   0       140   241    0        1      123      1      0.2   \n",
       "299   45    1   3       110   264    0        1      132      0      1.2   \n",
       "300   68    1   0       144   193    1        1      141      0      3.4   \n",
       "301   57    1   0       130   131    0        1      115      1      1.2   \n",
       "302   57    0   1       130   236    0        0      174      0      0.0   \n",
       "\n",
       "     slope  ca  thal  target  \n",
       "0        0   0     1       1  \n",
       "1        0   0     2       1  \n",
       "2        2   0     2       1  \n",
       "3        2   0     2       1  \n",
       "4        2   0     2       1  \n",
       "..     ...  ..   ...     ...  \n",
       "298      1   0     3       0  \n",
       "299      1   0     3       0  \n",
       "300      1   2     3       0  \n",
       "301      1   1     3       0  \n",
       "302      1   1     2       0  \n",
       "\n",
       "[303 rows x 14 columns]>"
      ]
     },
     "execution_count": 31,
     "metadata": {},
     "output_type": "execute_result"
    }
   ],
   "source": [
    "df.describe"
   ]
  },
  {
   "cell_type": "markdown",
   "id": "f96774b3",
   "metadata": {},
   "source": [
    "# Dropping null values and removing duplicates."
   ]
  },
  {
   "cell_type": "code",
   "execution_count": 33,
   "id": "877f35f0",
   "metadata": {},
   "outputs": [
    {
     "data": {
      "text/plain": [
       "age         0\n",
       "sex         0\n",
       "cp          0\n",
       "trestbps    0\n",
       "chol        0\n",
       "fbs         0\n",
       "restecg     0\n",
       "thalach     0\n",
       "exang       0\n",
       "oldpeak     0\n",
       "slope       0\n",
       "ca          0\n",
       "thal        0\n",
       "target      0\n",
       "dtype: int64"
      ]
     },
     "execution_count": 33,
     "metadata": {},
     "output_type": "execute_result"
    }
   ],
   "source": [
    "df.isnull().sum()"
   ]
  },
  {
   "cell_type": "code",
   "execution_count": 34,
   "id": "d3ebeabd",
   "metadata": {},
   "outputs": [],
   "source": [
    "df=df.dropna()"
   ]
  },
  {
   "cell_type": "code",
   "execution_count": 35,
   "id": "7e45ef8b",
   "metadata": {},
   "outputs": [
    {
     "data": {
      "text/html": [
       "<div>\n",
       "<style scoped>\n",
       "    .dataframe tbody tr th:only-of-type {\n",
       "        vertical-align: middle;\n",
       "    }\n",
       "\n",
       "    .dataframe tbody tr th {\n",
       "        vertical-align: top;\n",
       "    }\n",
       "\n",
       "    .dataframe thead th {\n",
       "        text-align: right;\n",
       "    }\n",
       "</style>\n",
       "<table border=\"1\" class=\"dataframe\">\n",
       "  <thead>\n",
       "    <tr style=\"text-align: right;\">\n",
       "      <th></th>\n",
       "      <th>age</th>\n",
       "      <th>sex</th>\n",
       "      <th>cp</th>\n",
       "      <th>trestbps</th>\n",
       "      <th>chol</th>\n",
       "      <th>fbs</th>\n",
       "      <th>restecg</th>\n",
       "      <th>thalach</th>\n",
       "      <th>exang</th>\n",
       "      <th>oldpeak</th>\n",
       "      <th>slope</th>\n",
       "      <th>ca</th>\n",
       "      <th>thal</th>\n",
       "      <th>target</th>\n",
       "    </tr>\n",
       "  </thead>\n",
       "  <tbody>\n",
       "    <tr>\n",
       "      <th>0</th>\n",
       "      <td>False</td>\n",
       "      <td>False</td>\n",
       "      <td>False</td>\n",
       "      <td>False</td>\n",
       "      <td>False</td>\n",
       "      <td>False</td>\n",
       "      <td>False</td>\n",
       "      <td>False</td>\n",
       "      <td>False</td>\n",
       "      <td>False</td>\n",
       "      <td>False</td>\n",
       "      <td>False</td>\n",
       "      <td>False</td>\n",
       "      <td>False</td>\n",
       "    </tr>\n",
       "    <tr>\n",
       "      <th>1</th>\n",
       "      <td>False</td>\n",
       "      <td>False</td>\n",
       "      <td>False</td>\n",
       "      <td>False</td>\n",
       "      <td>False</td>\n",
       "      <td>False</td>\n",
       "      <td>False</td>\n",
       "      <td>False</td>\n",
       "      <td>False</td>\n",
       "      <td>False</td>\n",
       "      <td>False</td>\n",
       "      <td>False</td>\n",
       "      <td>False</td>\n",
       "      <td>False</td>\n",
       "    </tr>\n",
       "    <tr>\n",
       "      <th>2</th>\n",
       "      <td>False</td>\n",
       "      <td>False</td>\n",
       "      <td>False</td>\n",
       "      <td>False</td>\n",
       "      <td>False</td>\n",
       "      <td>False</td>\n",
       "      <td>False</td>\n",
       "      <td>False</td>\n",
       "      <td>False</td>\n",
       "      <td>False</td>\n",
       "      <td>False</td>\n",
       "      <td>False</td>\n",
       "      <td>False</td>\n",
       "      <td>False</td>\n",
       "    </tr>\n",
       "    <tr>\n",
       "      <th>3</th>\n",
       "      <td>False</td>\n",
       "      <td>False</td>\n",
       "      <td>False</td>\n",
       "      <td>False</td>\n",
       "      <td>False</td>\n",
       "      <td>False</td>\n",
       "      <td>False</td>\n",
       "      <td>False</td>\n",
       "      <td>False</td>\n",
       "      <td>False</td>\n",
       "      <td>False</td>\n",
       "      <td>False</td>\n",
       "      <td>False</td>\n",
       "      <td>False</td>\n",
       "    </tr>\n",
       "    <tr>\n",
       "      <th>4</th>\n",
       "      <td>False</td>\n",
       "      <td>False</td>\n",
       "      <td>False</td>\n",
       "      <td>False</td>\n",
       "      <td>False</td>\n",
       "      <td>False</td>\n",
       "      <td>False</td>\n",
       "      <td>False</td>\n",
       "      <td>False</td>\n",
       "      <td>False</td>\n",
       "      <td>False</td>\n",
       "      <td>False</td>\n",
       "      <td>False</td>\n",
       "      <td>False</td>\n",
       "    </tr>\n",
       "    <tr>\n",
       "      <th>...</th>\n",
       "      <td>...</td>\n",
       "      <td>...</td>\n",
       "      <td>...</td>\n",
       "      <td>...</td>\n",
       "      <td>...</td>\n",
       "      <td>...</td>\n",
       "      <td>...</td>\n",
       "      <td>...</td>\n",
       "      <td>...</td>\n",
       "      <td>...</td>\n",
       "      <td>...</td>\n",
       "      <td>...</td>\n",
       "      <td>...</td>\n",
       "      <td>...</td>\n",
       "    </tr>\n",
       "    <tr>\n",
       "      <th>298</th>\n",
       "      <td>False</td>\n",
       "      <td>False</td>\n",
       "      <td>False</td>\n",
       "      <td>False</td>\n",
       "      <td>False</td>\n",
       "      <td>False</td>\n",
       "      <td>False</td>\n",
       "      <td>False</td>\n",
       "      <td>False</td>\n",
       "      <td>False</td>\n",
       "      <td>False</td>\n",
       "      <td>False</td>\n",
       "      <td>False</td>\n",
       "      <td>False</td>\n",
       "    </tr>\n",
       "    <tr>\n",
       "      <th>299</th>\n",
       "      <td>False</td>\n",
       "      <td>False</td>\n",
       "      <td>False</td>\n",
       "      <td>False</td>\n",
       "      <td>False</td>\n",
       "      <td>False</td>\n",
       "      <td>False</td>\n",
       "      <td>False</td>\n",
       "      <td>False</td>\n",
       "      <td>False</td>\n",
       "      <td>False</td>\n",
       "      <td>False</td>\n",
       "      <td>False</td>\n",
       "      <td>False</td>\n",
       "    </tr>\n",
       "    <tr>\n",
       "      <th>300</th>\n",
       "      <td>False</td>\n",
       "      <td>False</td>\n",
       "      <td>False</td>\n",
       "      <td>False</td>\n",
       "      <td>False</td>\n",
       "      <td>False</td>\n",
       "      <td>False</td>\n",
       "      <td>False</td>\n",
       "      <td>False</td>\n",
       "      <td>False</td>\n",
       "      <td>False</td>\n",
       "      <td>False</td>\n",
       "      <td>False</td>\n",
       "      <td>False</td>\n",
       "    </tr>\n",
       "    <tr>\n",
       "      <th>301</th>\n",
       "      <td>False</td>\n",
       "      <td>False</td>\n",
       "      <td>False</td>\n",
       "      <td>False</td>\n",
       "      <td>False</td>\n",
       "      <td>False</td>\n",
       "      <td>False</td>\n",
       "      <td>False</td>\n",
       "      <td>False</td>\n",
       "      <td>False</td>\n",
       "      <td>False</td>\n",
       "      <td>False</td>\n",
       "      <td>False</td>\n",
       "      <td>False</td>\n",
       "    </tr>\n",
       "    <tr>\n",
       "      <th>302</th>\n",
       "      <td>False</td>\n",
       "      <td>False</td>\n",
       "      <td>False</td>\n",
       "      <td>False</td>\n",
       "      <td>False</td>\n",
       "      <td>False</td>\n",
       "      <td>False</td>\n",
       "      <td>False</td>\n",
       "      <td>False</td>\n",
       "      <td>False</td>\n",
       "      <td>False</td>\n",
       "      <td>False</td>\n",
       "      <td>False</td>\n",
       "      <td>False</td>\n",
       "    </tr>\n",
       "  </tbody>\n",
       "</table>\n",
       "<p>303 rows × 14 columns</p>\n",
       "</div>"
      ],
      "text/plain": [
       "       age    sex     cp  trestbps   chol    fbs  restecg  thalach  exang  \\\n",
       "0    False  False  False     False  False  False    False    False  False   \n",
       "1    False  False  False     False  False  False    False    False  False   \n",
       "2    False  False  False     False  False  False    False    False  False   \n",
       "3    False  False  False     False  False  False    False    False  False   \n",
       "4    False  False  False     False  False  False    False    False  False   \n",
       "..     ...    ...    ...       ...    ...    ...      ...      ...    ...   \n",
       "298  False  False  False     False  False  False    False    False  False   \n",
       "299  False  False  False     False  False  False    False    False  False   \n",
       "300  False  False  False     False  False  False    False    False  False   \n",
       "301  False  False  False     False  False  False    False    False  False   \n",
       "302  False  False  False     False  False  False    False    False  False   \n",
       "\n",
       "     oldpeak  slope     ca   thal  target  \n",
       "0      False  False  False  False   False  \n",
       "1      False  False  False  False   False  \n",
       "2      False  False  False  False   False  \n",
       "3      False  False  False  False   False  \n",
       "4      False  False  False  False   False  \n",
       "..       ...    ...    ...    ...     ...  \n",
       "298    False  False  False  False   False  \n",
       "299    False  False  False  False   False  \n",
       "300    False  False  False  False   False  \n",
       "301    False  False  False  False   False  \n",
       "302    False  False  False  False   False  \n",
       "\n",
       "[303 rows x 14 columns]"
      ]
     },
     "execution_count": 35,
     "metadata": {},
     "output_type": "execute_result"
    }
   ],
   "source": [
    "df.isnull()"
   ]
  },
  {
   "cell_type": "code",
   "execution_count": 36,
   "id": "53fe12e8",
   "metadata": {},
   "outputs": [
    {
     "data": {
      "text/html": [
       "<div>\n",
       "<style scoped>\n",
       "    .dataframe tbody tr th:only-of-type {\n",
       "        vertical-align: middle;\n",
       "    }\n",
       "\n",
       "    .dataframe tbody tr th {\n",
       "        vertical-align: top;\n",
       "    }\n",
       "\n",
       "    .dataframe thead th {\n",
       "        text-align: right;\n",
       "    }\n",
       "</style>\n",
       "<table border=\"1\" class=\"dataframe\">\n",
       "  <thead>\n",
       "    <tr style=\"text-align: right;\">\n",
       "      <th></th>\n",
       "      <th>age</th>\n",
       "      <th>sex</th>\n",
       "      <th>cp</th>\n",
       "      <th>trestbps</th>\n",
       "      <th>chol</th>\n",
       "      <th>fbs</th>\n",
       "      <th>restecg</th>\n",
       "      <th>thalach</th>\n",
       "      <th>exang</th>\n",
       "      <th>oldpeak</th>\n",
       "      <th>slope</th>\n",
       "      <th>ca</th>\n",
       "      <th>thal</th>\n",
       "      <th>target</th>\n",
       "    </tr>\n",
       "  </thead>\n",
       "  <tbody>\n",
       "    <tr>\n",
       "      <th>0</th>\n",
       "      <td>63</td>\n",
       "      <td>1</td>\n",
       "      <td>3</td>\n",
       "      <td>145</td>\n",
       "      <td>233</td>\n",
       "      <td>1</td>\n",
       "      <td>0</td>\n",
       "      <td>150</td>\n",
       "      <td>0</td>\n",
       "      <td>2.3</td>\n",
       "      <td>0</td>\n",
       "      <td>0</td>\n",
       "      <td>1</td>\n",
       "      <td>1</td>\n",
       "    </tr>\n",
       "    <tr>\n",
       "      <th>1</th>\n",
       "      <td>37</td>\n",
       "      <td>1</td>\n",
       "      <td>2</td>\n",
       "      <td>130</td>\n",
       "      <td>250</td>\n",
       "      <td>0</td>\n",
       "      <td>1</td>\n",
       "      <td>187</td>\n",
       "      <td>0</td>\n",
       "      <td>3.5</td>\n",
       "      <td>0</td>\n",
       "      <td>0</td>\n",
       "      <td>2</td>\n",
       "      <td>1</td>\n",
       "    </tr>\n",
       "    <tr>\n",
       "      <th>2</th>\n",
       "      <td>41</td>\n",
       "      <td>0</td>\n",
       "      <td>1</td>\n",
       "      <td>130</td>\n",
       "      <td>204</td>\n",
       "      <td>0</td>\n",
       "      <td>0</td>\n",
       "      <td>172</td>\n",
       "      <td>0</td>\n",
       "      <td>1.4</td>\n",
       "      <td>2</td>\n",
       "      <td>0</td>\n",
       "      <td>2</td>\n",
       "      <td>1</td>\n",
       "    </tr>\n",
       "    <tr>\n",
       "      <th>3</th>\n",
       "      <td>56</td>\n",
       "      <td>1</td>\n",
       "      <td>1</td>\n",
       "      <td>120</td>\n",
       "      <td>236</td>\n",
       "      <td>0</td>\n",
       "      <td>1</td>\n",
       "      <td>178</td>\n",
       "      <td>0</td>\n",
       "      <td>0.8</td>\n",
       "      <td>2</td>\n",
       "      <td>0</td>\n",
       "      <td>2</td>\n",
       "      <td>1</td>\n",
       "    </tr>\n",
       "    <tr>\n",
       "      <th>4</th>\n",
       "      <td>57</td>\n",
       "      <td>0</td>\n",
       "      <td>0</td>\n",
       "      <td>120</td>\n",
       "      <td>354</td>\n",
       "      <td>0</td>\n",
       "      <td>1</td>\n",
       "      <td>163</td>\n",
       "      <td>1</td>\n",
       "      <td>0.6</td>\n",
       "      <td>2</td>\n",
       "      <td>0</td>\n",
       "      <td>2</td>\n",
       "      <td>1</td>\n",
       "    </tr>\n",
       "    <tr>\n",
       "      <th>...</th>\n",
       "      <td>...</td>\n",
       "      <td>...</td>\n",
       "      <td>...</td>\n",
       "      <td>...</td>\n",
       "      <td>...</td>\n",
       "      <td>...</td>\n",
       "      <td>...</td>\n",
       "      <td>...</td>\n",
       "      <td>...</td>\n",
       "      <td>...</td>\n",
       "      <td>...</td>\n",
       "      <td>...</td>\n",
       "      <td>...</td>\n",
       "      <td>...</td>\n",
       "    </tr>\n",
       "    <tr>\n",
       "      <th>298</th>\n",
       "      <td>57</td>\n",
       "      <td>0</td>\n",
       "      <td>0</td>\n",
       "      <td>140</td>\n",
       "      <td>241</td>\n",
       "      <td>0</td>\n",
       "      <td>1</td>\n",
       "      <td>123</td>\n",
       "      <td>1</td>\n",
       "      <td>0.2</td>\n",
       "      <td>1</td>\n",
       "      <td>0</td>\n",
       "      <td>3</td>\n",
       "      <td>0</td>\n",
       "    </tr>\n",
       "    <tr>\n",
       "      <th>299</th>\n",
       "      <td>45</td>\n",
       "      <td>1</td>\n",
       "      <td>3</td>\n",
       "      <td>110</td>\n",
       "      <td>264</td>\n",
       "      <td>0</td>\n",
       "      <td>1</td>\n",
       "      <td>132</td>\n",
       "      <td>0</td>\n",
       "      <td>1.2</td>\n",
       "      <td>1</td>\n",
       "      <td>0</td>\n",
       "      <td>3</td>\n",
       "      <td>0</td>\n",
       "    </tr>\n",
       "    <tr>\n",
       "      <th>300</th>\n",
       "      <td>68</td>\n",
       "      <td>1</td>\n",
       "      <td>0</td>\n",
       "      <td>144</td>\n",
       "      <td>193</td>\n",
       "      <td>1</td>\n",
       "      <td>1</td>\n",
       "      <td>141</td>\n",
       "      <td>0</td>\n",
       "      <td>3.4</td>\n",
       "      <td>1</td>\n",
       "      <td>2</td>\n",
       "      <td>3</td>\n",
       "      <td>0</td>\n",
       "    </tr>\n",
       "    <tr>\n",
       "      <th>301</th>\n",
       "      <td>57</td>\n",
       "      <td>1</td>\n",
       "      <td>0</td>\n",
       "      <td>130</td>\n",
       "      <td>131</td>\n",
       "      <td>0</td>\n",
       "      <td>1</td>\n",
       "      <td>115</td>\n",
       "      <td>1</td>\n",
       "      <td>1.2</td>\n",
       "      <td>1</td>\n",
       "      <td>1</td>\n",
       "      <td>3</td>\n",
       "      <td>0</td>\n",
       "    </tr>\n",
       "    <tr>\n",
       "      <th>302</th>\n",
       "      <td>57</td>\n",
       "      <td>0</td>\n",
       "      <td>1</td>\n",
       "      <td>130</td>\n",
       "      <td>236</td>\n",
       "      <td>0</td>\n",
       "      <td>0</td>\n",
       "      <td>174</td>\n",
       "      <td>0</td>\n",
       "      <td>0.0</td>\n",
       "      <td>1</td>\n",
       "      <td>1</td>\n",
       "      <td>2</td>\n",
       "      <td>0</td>\n",
       "    </tr>\n",
       "  </tbody>\n",
       "</table>\n",
       "<p>301 rows × 14 columns</p>\n",
       "</div>"
      ],
      "text/plain": [
       "     age  sex  cp  trestbps  chol  fbs  restecg  thalach  exang  oldpeak  \\\n",
       "0     63    1   3       145   233    1        0      150      0      2.3   \n",
       "1     37    1   2       130   250    0        1      187      0      3.5   \n",
       "2     41    0   1       130   204    0        0      172      0      1.4   \n",
       "3     56    1   1       120   236    0        1      178      0      0.8   \n",
       "4     57    0   0       120   354    0        1      163      1      0.6   \n",
       "..   ...  ...  ..       ...   ...  ...      ...      ...    ...      ...   \n",
       "298   57    0   0       140   241    0        1      123      1      0.2   \n",
       "299   45    1   3       110   264    0        1      132      0      1.2   \n",
       "300   68    1   0       144   193    1        1      141      0      3.4   \n",
       "301   57    1   0       130   131    0        1      115      1      1.2   \n",
       "302   57    0   1       130   236    0        0      174      0      0.0   \n",
       "\n",
       "     slope  ca  thal  target  \n",
       "0        0   0     1       1  \n",
       "1        0   0     2       1  \n",
       "2        2   0     2       1  \n",
       "3        2   0     2       1  \n",
       "4        2   0     2       1  \n",
       "..     ...  ..   ...     ...  \n",
       "298      1   0     3       0  \n",
       "299      1   0     3       0  \n",
       "300      1   2     3       0  \n",
       "301      1   1     3       0  \n",
       "302      1   1     2       0  \n",
       "\n",
       "[301 rows x 14 columns]"
      ]
     },
     "execution_count": 36,
     "metadata": {},
     "output_type": "execute_result"
    }
   ],
   "source": [
    "df.drop_duplicates(subset=['age', 'sex', 'cp', 'trestbps', 'chol', 'fbs', 'restecg', 'thalach',\n",
    "       'exang', 'oldpeak', 'slope', 'ca', 'thal', 'target'], keep=False)"
   ]
  },
  {
   "cell_type": "code",
   "execution_count": 37,
   "id": "5decebcf",
   "metadata": {},
   "outputs": [
    {
     "data": {
      "text/plain": [
       "0      False\n",
       "1      False\n",
       "2      False\n",
       "3      False\n",
       "4      False\n",
       "       ...  \n",
       "298    False\n",
       "299    False\n",
       "300    False\n",
       "301    False\n",
       "302    False\n",
       "Length: 303, dtype: bool"
      ]
     },
     "execution_count": 37,
     "metadata": {},
     "output_type": "execute_result"
    }
   ],
   "source": [
    "df.duplicated()"
   ]
  },
  {
   "cell_type": "code",
   "execution_count": 38,
   "id": "a055e8a1",
   "metadata": {},
   "outputs": [
    {
     "data": {
      "text/plain": [
       "0    175\n",
       "1     65\n",
       "2     38\n",
       "3     20\n",
       "4      5\n",
       "Name: ca, dtype: int64"
      ]
     },
     "execution_count": 38,
     "metadata": {},
     "output_type": "execute_result"
    }
   ],
   "source": [
    "df['ca'].value_counts()"
   ]
  },
  {
   "cell_type": "code",
   "execution_count": 39,
   "id": "7ba7b6d8",
   "metadata": {},
   "outputs": [
    {
     "data": {
      "text/plain": [
       "0    143\n",
       "2     87\n",
       "1     50\n",
       "3     23\n",
       "Name: cp, dtype: int64"
      ]
     },
     "execution_count": 39,
     "metadata": {},
     "output_type": "execute_result"
    }
   ],
   "source": [
    "df['cp'].value_counts()"
   ]
  },
  {
   "cell_type": "code",
   "execution_count": 40,
   "id": "46ca259f",
   "metadata": {},
   "outputs": [
    {
     "data": {
      "text/plain": [
       "1    152\n",
       "0    147\n",
       "2      4\n",
       "Name: restecg, dtype: int64"
      ]
     },
     "execution_count": 40,
     "metadata": {},
     "output_type": "execute_result"
    }
   ],
   "source": [
    "df['restecg'].value_counts()"
   ]
  },
  {
   "cell_type": "code",
   "execution_count": 41,
   "id": "9af8b746",
   "metadata": {},
   "outputs": [
    {
     "data": {
      "text/plain": [
       "2    166\n",
       "3    117\n",
       "1     18\n",
       "0      2\n",
       "Name: thal, dtype: int64"
      ]
     },
     "execution_count": 41,
     "metadata": {},
     "output_type": "execute_result"
    }
   ],
   "source": [
    "df['thal'].value_counts()"
   ]
  },
  {
   "cell_type": "code",
   "execution_count": 42,
   "id": "7de0acb7",
   "metadata": {},
   "outputs": [],
   "source": [
    "df['sex']=df['sex'].astype('str')\n",
    "df['thal']=df['thal'].astype('str')\n",
    "df['fbs']=df['fbs'].astype('str')\n",
    "df['exang']=df['exang'].astype('str')\n",
    "df['cp']=df['cp'].astype('str')"
   ]
  },
  {
   "cell_type": "code",
   "execution_count": 43,
   "id": "40e786e6",
   "metadata": {},
   "outputs": [],
   "source": [
    "df = df[df['ca'] != '4']\n",
    "df = df[df['restecg'] != '2']\n",
    "df = df[df['thal'] != '0']\n",
    "df = df[df['cp'] != '3']"
   ]
  },
  {
   "cell_type": "code",
   "execution_count": 44,
   "id": "b9fd2f35",
   "metadata": {},
   "outputs": [
    {
     "data": {
      "text/plain": [
       "0    142\n",
       "2     86\n",
       "1     50\n",
       "Name: cp, dtype: int64"
      ]
     },
     "execution_count": 44,
     "metadata": {},
     "output_type": "execute_result"
    }
   ],
   "source": [
    "df['cp'].value_counts()"
   ]
  },
  {
   "cell_type": "code",
   "execution_count": 45,
   "id": "fccc2324",
   "metadata": {},
   "outputs": [
    {
     "data": {
      "text/plain": [
       "2    153\n",
       "3    109\n",
       "1     16\n",
       "Name: thal, dtype: int64"
      ]
     },
     "execution_count": 45,
     "metadata": {},
     "output_type": "execute_result"
    }
   ],
   "source": [
    "df['thal'].value_counts()"
   ]
  },
  {
   "cell_type": "code",
   "execution_count": 7,
   "id": "9496a2eb",
   "metadata": {},
   "outputs": [
    {
     "data": {
      "text/plain": [
       "149.64686468646866"
      ]
     },
     "execution_count": 7,
     "metadata": {},
     "output_type": "execute_result"
    }
   ],
   "source": [
    "df['thalach'].mean()"
   ]
  },
  {
   "cell_type": "code",
   "execution_count": 47,
   "id": "f6f4aaf2",
   "metadata": {},
   "outputs": [
    {
     "data": {
      "text/plain": [
       "202"
      ]
     },
     "execution_count": 47,
     "metadata": {},
     "output_type": "execute_result"
    }
   ],
   "source": [
    "df['thalach'].max()"
   ]
  },
  {
   "cell_type": "code",
   "execution_count": 48,
   "id": "17b4b0a3",
   "metadata": {},
   "outputs": [
    {
     "data": {
      "text/plain": [
       "6.2"
      ]
     },
     "execution_count": 48,
     "metadata": {},
     "output_type": "execute_result"
    }
   ],
   "source": [
    "df['oldpeak'].max()"
   ]
  },
  {
   "cell_type": "code",
   "execution_count": 49,
   "id": "03436e34",
   "metadata": {},
   "outputs": [
    {
     "data": {
      "text/plain": [
       "0.0"
      ]
     },
     "execution_count": 49,
     "metadata": {},
     "output_type": "execute_result"
    }
   ],
   "source": [
    "df['oldpeak'].min()"
   ]
  },
  {
   "cell_type": "code",
   "execution_count": 50,
   "id": "9d999c7d",
   "metadata": {},
   "outputs": [
    {
     "data": {
      "text/plain": [
       "1.0143884892086328"
      ]
     },
     "execution_count": 50,
     "metadata": {},
     "output_type": "execute_result"
    }
   ],
   "source": [
    "df['oldpeak'].mean()"
   ]
  },
  {
   "cell_type": "code",
   "execution_count": 51,
   "id": "c5e7e3ed",
   "metadata": {},
   "outputs": [
    {
     "data": {
      "text/plain": [
       "77"
      ]
     },
     "execution_count": 51,
     "metadata": {},
     "output_type": "execute_result"
    }
   ],
   "source": [
    "df['age'].max()"
   ]
  },
  {
   "cell_type": "code",
   "execution_count": 52,
   "id": "4c329777",
   "metadata": {},
   "outputs": [
    {
     "data": {
      "text/plain": [
       "29"
      ]
     },
     "execution_count": 52,
     "metadata": {},
     "output_type": "execute_result"
    }
   ],
   "source": [
    "df['age'].min()"
   ]
  },
  {
   "cell_type": "code",
   "execution_count": 53,
   "id": "14c59dea",
   "metadata": {},
   "outputs": [
    {
     "data": {
      "text/plain": [
       "94"
      ]
     },
     "execution_count": 53,
     "metadata": {},
     "output_type": "execute_result"
    }
   ],
   "source": [
    "df['trestbps'].min()"
   ]
  },
  {
   "cell_type": "code",
   "execution_count": 54,
   "id": "2850b31a",
   "metadata": {},
   "outputs": [
    {
     "data": {
      "text/plain": [
       "200"
      ]
     },
     "execution_count": 54,
     "metadata": {},
     "output_type": "execute_result"
    }
   ],
   "source": [
    "df['trestbps'].max()"
   ]
  },
  {
   "cell_type": "code",
   "execution_count": 55,
   "id": "c66fa73b",
   "metadata": {},
   "outputs": [
    {
     "data": {
      "text/plain": [
       "126"
      ]
     },
     "execution_count": 55,
     "metadata": {},
     "output_type": "execute_result"
    }
   ],
   "source": [
    "df['chol'].min()"
   ]
  },
  {
   "cell_type": "code",
   "execution_count": 56,
   "id": "7910eb83",
   "metadata": {},
   "outputs": [
    {
     "data": {
      "text/plain": [
       "564"
      ]
     },
     "execution_count": 56,
     "metadata": {},
     "output_type": "execute_result"
    }
   ],
   "source": [
    "df['chol'].max()"
   ]
  },
  {
   "cell_type": "markdown",
   "id": "6625043f",
   "metadata": {},
   "source": [
    "# Binning"
   ]
  },
  {
   "cell_type": "code",
   "execution_count": 57,
   "id": "8ce32b8e",
   "metadata": {},
   "outputs": [],
   "source": [
    "def df_age(x):\n",
    "    if x >= 30 and x<=40:\n",
    "        return \"Ages 30 to 40\"\n",
    "    elif x >=41 and x<=50:\n",
    "        return \"Ages 41 to 50\"\n",
    "    elif x >=51 and x<= 60:\n",
    "        return \"Ages 51 to 60\"\n",
    "    elif x >=61 and x<=70:\n",
    "        return \"Ages 61 to 70\"\n",
    "    else:\n",
    "        return \"Ages 71 and up\""
   ]
  },
  {
   "cell_type": "code",
   "execution_count": 58,
   "id": "ea639b15",
   "metadata": {},
   "outputs": [],
   "source": [
    "def df_heart(x):\n",
    "    if x >= 75 and x<100:\n",
    "        return \"heart rate 75 to 100\"\n",
    "    elif x >=100 and x<125:\n",
    "        return \"heart rate 100 to 125\"\n",
    "    elif x >=125 and x<150:\n",
    "        return \"heart rate 125 to 150\"\n",
    "    else:\n",
    "        return \"heart rate above 150\""
   ]
  },
  {
   "cell_type": "code",
   "execution_count": 3,
   "id": "3920139b",
   "metadata": {},
   "outputs": [],
   "source": [
    "def df_RBP(x):\n",
    "    if x <= 100:\n",
    "        return \"resting blood pressure below 100\"\n",
    "    elif x >100 and x<=130:\n",
    "        return \"resting blood pressure 100 to 130\"\n",
    "    else:\n",
    "        return \"resting blood pressure over 130\""
   ]
  },
  {
   "cell_type": "code",
   "execution_count": 60,
   "id": "aaba4cb2",
   "metadata": {},
   "outputs": [],
   "source": [
    "def df_op(x):\n",
    "    if x <= 1.9:\n",
    "        return \"st segment below 2.0\"\n",
    "    else:\n",
    "        return \"st segment above 2.0\""
   ]
  },
  {
   "cell_type": "code",
   "execution_count": 61,
   "id": "6d17e2bd",
   "metadata": {},
   "outputs": [],
   "source": [
    "def df_chol(x):\n",
    "    if x <200:\n",
    "        return \"Cholesterol below 200\"\n",
    "    elif x >200 and x<=300:\n",
    "        return \"Cholesterol 200 to 300\"\n",
    "    elif x >300 and x<= 400:\n",
    "        return \"Cholesterol 300 to 400\"\n",
    "    elif x >=400 and x<=500:\n",
    "        return \"Cholesterol 400 to 500\"\n",
    "    else:\n",
    "        return \"Cholesterol over 500\""
   ]
  },
  {
   "cell_type": "code",
   "execution_count": 62,
   "id": "4c435d1f",
   "metadata": {},
   "outputs": [],
   "source": [
    "df['age'] = df['age'].apply(lambda x : df_age(x))"
   ]
  },
  {
   "cell_type": "code",
   "execution_count": 63,
   "id": "d1ded9e7",
   "metadata": {},
   "outputs": [],
   "source": [
    "df['oldpeak'] = df['oldpeak'].apply(lambda x : df_op(x))"
   ]
  },
  {
   "cell_type": "code",
   "execution_count": 64,
   "id": "6bdf6b55",
   "metadata": {},
   "outputs": [],
   "source": [
    "df['thalach'] = df['thalach'].apply(lambda x : df_heart(x))"
   ]
  },
  {
   "cell_type": "code",
   "execution_count": 5,
   "id": "27c9a93f",
   "metadata": {},
   "outputs": [],
   "source": [
    "df['trestbps'] = df['trestbps'].apply(lambda x : df_RBP(x))"
   ]
  },
  {
   "cell_type": "code",
   "execution_count": 66,
   "id": "b68881cd",
   "metadata": {},
   "outputs": [],
   "source": [
    "df['chol'] = df['chol'].apply(lambda x : df_chol(x))"
   ]
  },
  {
   "cell_type": "code",
   "execution_count": 67,
   "id": "c5f6d531",
   "metadata": {},
   "outputs": [
    {
     "data": {
      "text/plain": [
       "heart rate above 150     156\n",
       "heart rate 125 to 150     80\n",
       "heart rate 100 to 125     35\n",
       "heart rate 75 to 100       7\n",
       "Name: thalach, dtype: int64"
      ]
     },
     "execution_count": 67,
     "metadata": {},
     "output_type": "execute_result"
    }
   ],
   "source": [
    "df['thalach'].value_counts()"
   ]
  },
  {
   "cell_type": "code",
   "execution_count": 68,
   "id": "d34817f3",
   "metadata": {},
   "outputs": [
    {
     "data": {
      "text/plain": [
       "Ages 51 to 60     117\n",
       "Ages 41 to 50      74\n",
       "Ages 61 to 70      65\n",
       "Ages 30 to 40      15\n",
       "Ages 71 and up      7\n",
       "Name: age, dtype: int64"
      ]
     },
     "execution_count": 68,
     "metadata": {},
     "output_type": "execute_result"
    }
   ],
   "source": [
    "df['age'].value_counts()"
   ]
  },
  {
   "cell_type": "code",
   "execution_count": 6,
   "id": "449f7cac",
   "metadata": {},
   "outputs": [
    {
     "data": {
      "text/plain": [
       "resting blood pressure 100 to 130    165\n",
       "resting blood pressure over 130      132\n",
       "resting blood pressure below 100       6\n",
       "Name: trestbps, dtype: int64"
      ]
     },
     "execution_count": 6,
     "metadata": {},
     "output_type": "execute_result"
    }
   ],
   "source": [
    "df['trestbps'].value_counts()"
   ]
  },
  {
   "cell_type": "code",
   "execution_count": 70,
   "id": "e06a3c96",
   "metadata": {},
   "outputs": [
    {
     "data": {
      "text/plain": [
       "Cholesterol 200 to 300    188\n",
       "Cholesterol below 200      46\n",
       "Cholesterol 300 to 400     39\n",
       "Cholesterol 400 to 500      3\n",
       "Cholesterol over 500        2\n",
       "Name: chol, dtype: int64"
      ]
     },
     "execution_count": 70,
     "metadata": {},
     "output_type": "execute_result"
    }
   ],
   "source": [
    "df['chol'].value_counts()"
   ]
  },
  {
   "cell_type": "code",
   "execution_count": 71,
   "id": "f05d6af8",
   "metadata": {},
   "outputs": [],
   "source": [
    "df['sex']=df['sex'].str.replace('0','Female')\n",
    "df['sex']=df['sex'].str.replace('1','Male')\n",
    "df['fbs']=df['fbs'].str.replace('1','True')\n",
    "df['fbs']=df['fbs'].str.replace('0','False')\n",
    "df['thal']=df['thal'].str.replace('1','Normal')\n",
    "df['thal']=df['thal'].str.replace('2','fixed defect')\n",
    "df['thal']=df['thal'].str.replace('3','reversable defect')\n",
    "df['exang']=df['exang'].str.replace('1','yes')\n",
    "df['exang']=df['exang'].str.replace('0','no')\n",
    "df['cp']=df['cp'].str.replace('0','No pain')\n",
    "df['cp']=df['cp'].str.replace('1','Moderate pain')\n",
    "df['cp']=df['cp'].str.replace('2','Severe Pain')"
   ]
  },
  {
   "cell_type": "code",
   "execution_count": 72,
   "id": "e0f1bd85",
   "metadata": {},
   "outputs": [
    {
     "data": {
      "text/html": [
       "<div>\n",
       "<style scoped>\n",
       "    .dataframe tbody tr th:only-of-type {\n",
       "        vertical-align: middle;\n",
       "    }\n",
       "\n",
       "    .dataframe tbody tr th {\n",
       "        vertical-align: top;\n",
       "    }\n",
       "\n",
       "    .dataframe thead th {\n",
       "        text-align: right;\n",
       "    }\n",
       "</style>\n",
       "<table border=\"1\" class=\"dataframe\">\n",
       "  <thead>\n",
       "    <tr style=\"text-align: right;\">\n",
       "      <th></th>\n",
       "      <th>age</th>\n",
       "      <th>sex</th>\n",
       "      <th>cp</th>\n",
       "      <th>trestbps</th>\n",
       "      <th>chol</th>\n",
       "      <th>fbs</th>\n",
       "      <th>restecg</th>\n",
       "      <th>thalach</th>\n",
       "      <th>exang</th>\n",
       "      <th>oldpeak</th>\n",
       "      <th>slope</th>\n",
       "      <th>ca</th>\n",
       "      <th>thal</th>\n",
       "      <th>target</th>\n",
       "    </tr>\n",
       "  </thead>\n",
       "  <tbody>\n",
       "    <tr>\n",
       "      <th>1</th>\n",
       "      <td>Ages 30 to 40</td>\n",
       "      <td>Male</td>\n",
       "      <td>Severe Pain</td>\n",
       "      <td>resting blood pressure 100 to 150</td>\n",
       "      <td>Cholesterol 200 to 300</td>\n",
       "      <td>False</td>\n",
       "      <td>1</td>\n",
       "      <td>heart rate above 150</td>\n",
       "      <td>no</td>\n",
       "      <td>st segment above 2.0</td>\n",
       "      <td>0</td>\n",
       "      <td>0</td>\n",
       "      <td>fixed defect</td>\n",
       "      <td>1</td>\n",
       "    </tr>\n",
       "    <tr>\n",
       "      <th>2</th>\n",
       "      <td>Ages 41 to 50</td>\n",
       "      <td>Female</td>\n",
       "      <td>Moderate pain</td>\n",
       "      <td>resting blood pressure 100 to 150</td>\n",
       "      <td>Cholesterol 200 to 300</td>\n",
       "      <td>False</td>\n",
       "      <td>0</td>\n",
       "      <td>heart rate above 150</td>\n",
       "      <td>no</td>\n",
       "      <td>st segment below 2.0</td>\n",
       "      <td>2</td>\n",
       "      <td>0</td>\n",
       "      <td>fixed defect</td>\n",
       "      <td>1</td>\n",
       "    </tr>\n",
       "    <tr>\n",
       "      <th>3</th>\n",
       "      <td>Ages 51 to 60</td>\n",
       "      <td>Male</td>\n",
       "      <td>Moderate pain</td>\n",
       "      <td>resting blood pressure 100 to 150</td>\n",
       "      <td>Cholesterol 200 to 300</td>\n",
       "      <td>False</td>\n",
       "      <td>1</td>\n",
       "      <td>heart rate above 150</td>\n",
       "      <td>no</td>\n",
       "      <td>st segment below 2.0</td>\n",
       "      <td>2</td>\n",
       "      <td>0</td>\n",
       "      <td>fixed defect</td>\n",
       "      <td>1</td>\n",
       "    </tr>\n",
       "    <tr>\n",
       "      <th>4</th>\n",
       "      <td>Ages 51 to 60</td>\n",
       "      <td>Female</td>\n",
       "      <td>No pain</td>\n",
       "      <td>resting blood pressure 100 to 150</td>\n",
       "      <td>Cholesterol 300 to 400</td>\n",
       "      <td>False</td>\n",
       "      <td>1</td>\n",
       "      <td>heart rate above 150</td>\n",
       "      <td>yes</td>\n",
       "      <td>st segment below 2.0</td>\n",
       "      <td>2</td>\n",
       "      <td>0</td>\n",
       "      <td>fixed defect</td>\n",
       "      <td>1</td>\n",
       "    </tr>\n",
       "    <tr>\n",
       "      <th>5</th>\n",
       "      <td>Ages 51 to 60</td>\n",
       "      <td>Male</td>\n",
       "      <td>No pain</td>\n",
       "      <td>resting blood pressure 100 to 150</td>\n",
       "      <td>Cholesterol below 200</td>\n",
       "      <td>False</td>\n",
       "      <td>1</td>\n",
       "      <td>heart rate 125 to 150</td>\n",
       "      <td>no</td>\n",
       "      <td>st segment below 2.0</td>\n",
       "      <td>1</td>\n",
       "      <td>0</td>\n",
       "      <td>Normal</td>\n",
       "      <td>1</td>\n",
       "    </tr>\n",
       "  </tbody>\n",
       "</table>\n",
       "</div>"
      ],
      "text/plain": [
       "             age     sex             cp                           trestbps  \\\n",
       "1  Ages 30 to 40    Male    Severe Pain  resting blood pressure 100 to 150   \n",
       "2  Ages 41 to 50  Female  Moderate pain  resting blood pressure 100 to 150   \n",
       "3  Ages 51 to 60    Male  Moderate pain  resting blood pressure 100 to 150   \n",
       "4  Ages 51 to 60  Female        No pain  resting blood pressure 100 to 150   \n",
       "5  Ages 51 to 60    Male        No pain  resting blood pressure 100 to 150   \n",
       "\n",
       "                     chol    fbs  restecg                thalach exang  \\\n",
       "1  Cholesterol 200 to 300  False        1   heart rate above 150    no   \n",
       "2  Cholesterol 200 to 300  False        0   heart rate above 150    no   \n",
       "3  Cholesterol 200 to 300  False        1   heart rate above 150    no   \n",
       "4  Cholesterol 300 to 400  False        1   heart rate above 150   yes   \n",
       "5   Cholesterol below 200  False        1  heart rate 125 to 150    no   \n",
       "\n",
       "                oldpeak  slope  ca          thal  target  \n",
       "1  st segment above 2.0      0   0  fixed defect       1  \n",
       "2  st segment below 2.0      2   0  fixed defect       1  \n",
       "3  st segment below 2.0      2   0  fixed defect       1  \n",
       "4  st segment below 2.0      2   0  fixed defect       1  \n",
       "5  st segment below 2.0      1   0        Normal       1  "
      ]
     },
     "execution_count": 72,
     "metadata": {},
     "output_type": "execute_result"
    }
   ],
   "source": [
    "df.head()"
   ]
  },
  {
   "cell_type": "code",
   "execution_count": 73,
   "id": "117dcf5a",
   "metadata": {},
   "outputs": [
    {
     "data": {
      "text/html": [
       "<div>\n",
       "<style scoped>\n",
       "    .dataframe tbody tr th:only-of-type {\n",
       "        vertical-align: middle;\n",
       "    }\n",
       "\n",
       "    .dataframe tbody tr th {\n",
       "        vertical-align: top;\n",
       "    }\n",
       "\n",
       "    .dataframe thead th {\n",
       "        text-align: right;\n",
       "    }\n",
       "</style>\n",
       "<table border=\"1\" class=\"dataframe\">\n",
       "  <thead>\n",
       "    <tr style=\"text-align: right;\">\n",
       "      <th></th>\n",
       "      <th>age</th>\n",
       "      <th>sex</th>\n",
       "      <th>cp</th>\n",
       "      <th>trestbps</th>\n",
       "      <th>chol</th>\n",
       "      <th>fbs</th>\n",
       "      <th>restecg</th>\n",
       "      <th>thalach</th>\n",
       "      <th>exang</th>\n",
       "      <th>oldpeak</th>\n",
       "      <th>slope</th>\n",
       "      <th>ca</th>\n",
       "      <th>thal</th>\n",
       "      <th>target</th>\n",
       "    </tr>\n",
       "  </thead>\n",
       "  <tbody>\n",
       "    <tr>\n",
       "      <th>297</th>\n",
       "      <td>Ages 51 to 60</td>\n",
       "      <td>Male</td>\n",
       "      <td>No pain</td>\n",
       "      <td>resting blood pressure over 150</td>\n",
       "      <td>Cholesterol below 200</td>\n",
       "      <td>True</td>\n",
       "      <td>0</td>\n",
       "      <td>heart rate 75 to 100</td>\n",
       "      <td>no</td>\n",
       "      <td>st segment below 2.0</td>\n",
       "      <td>1</td>\n",
       "      <td>2</td>\n",
       "      <td>Normal</td>\n",
       "      <td>0</td>\n",
       "    </tr>\n",
       "    <tr>\n",
       "      <th>298</th>\n",
       "      <td>Ages 51 to 60</td>\n",
       "      <td>Female</td>\n",
       "      <td>No pain</td>\n",
       "      <td>resting blood pressure 100 to 150</td>\n",
       "      <td>Cholesterol 200 to 300</td>\n",
       "      <td>False</td>\n",
       "      <td>1</td>\n",
       "      <td>heart rate 100 to 125</td>\n",
       "      <td>yes</td>\n",
       "      <td>st segment below 2.0</td>\n",
       "      <td>1</td>\n",
       "      <td>0</td>\n",
       "      <td>reversable defect</td>\n",
       "      <td>0</td>\n",
       "    </tr>\n",
       "    <tr>\n",
       "      <th>300</th>\n",
       "      <td>Ages 61 to 70</td>\n",
       "      <td>Male</td>\n",
       "      <td>No pain</td>\n",
       "      <td>resting blood pressure 100 to 150</td>\n",
       "      <td>Cholesterol below 200</td>\n",
       "      <td>True</td>\n",
       "      <td>1</td>\n",
       "      <td>heart rate 125 to 150</td>\n",
       "      <td>no</td>\n",
       "      <td>st segment above 2.0</td>\n",
       "      <td>1</td>\n",
       "      <td>2</td>\n",
       "      <td>reversable defect</td>\n",
       "      <td>0</td>\n",
       "    </tr>\n",
       "    <tr>\n",
       "      <th>301</th>\n",
       "      <td>Ages 51 to 60</td>\n",
       "      <td>Male</td>\n",
       "      <td>No pain</td>\n",
       "      <td>resting blood pressure 100 to 150</td>\n",
       "      <td>Cholesterol below 200</td>\n",
       "      <td>False</td>\n",
       "      <td>1</td>\n",
       "      <td>heart rate 100 to 125</td>\n",
       "      <td>yes</td>\n",
       "      <td>st segment below 2.0</td>\n",
       "      <td>1</td>\n",
       "      <td>1</td>\n",
       "      <td>reversable defect</td>\n",
       "      <td>0</td>\n",
       "    </tr>\n",
       "    <tr>\n",
       "      <th>302</th>\n",
       "      <td>Ages 51 to 60</td>\n",
       "      <td>Female</td>\n",
       "      <td>Moderate pain</td>\n",
       "      <td>resting blood pressure 100 to 150</td>\n",
       "      <td>Cholesterol 200 to 300</td>\n",
       "      <td>False</td>\n",
       "      <td>0</td>\n",
       "      <td>heart rate above 150</td>\n",
       "      <td>no</td>\n",
       "      <td>st segment below 2.0</td>\n",
       "      <td>1</td>\n",
       "      <td>1</td>\n",
       "      <td>fixed defect</td>\n",
       "      <td>0</td>\n",
       "    </tr>\n",
       "  </tbody>\n",
       "</table>\n",
       "</div>"
      ],
      "text/plain": [
       "               age     sex             cp                           trestbps  \\\n",
       "297  Ages 51 to 60    Male        No pain    resting blood pressure over 150   \n",
       "298  Ages 51 to 60  Female        No pain  resting blood pressure 100 to 150   \n",
       "300  Ages 61 to 70    Male        No pain  resting blood pressure 100 to 150   \n",
       "301  Ages 51 to 60    Male        No pain  resting blood pressure 100 to 150   \n",
       "302  Ages 51 to 60  Female  Moderate pain  resting blood pressure 100 to 150   \n",
       "\n",
       "                       chol    fbs  restecg                thalach exang  \\\n",
       "297   Cholesterol below 200   True        0   heart rate 75 to 100    no   \n",
       "298  Cholesterol 200 to 300  False        1  heart rate 100 to 125   yes   \n",
       "300   Cholesterol below 200   True        1  heart rate 125 to 150    no   \n",
       "301   Cholesterol below 200  False        1  heart rate 100 to 125   yes   \n",
       "302  Cholesterol 200 to 300  False        0   heart rate above 150    no   \n",
       "\n",
       "                  oldpeak  slope  ca               thal  target  \n",
       "297  st segment below 2.0      1   2             Normal       0  \n",
       "298  st segment below 2.0      1   0  reversable defect       0  \n",
       "300  st segment above 2.0      1   2  reversable defect       0  \n",
       "301  st segment below 2.0      1   1  reversable defect       0  \n",
       "302  st segment below 2.0      1   1       fixed defect       0  "
      ]
     },
     "execution_count": 73,
     "metadata": {},
     "output_type": "execute_result"
    }
   ],
   "source": [
    "df.tail()"
   ]
  },
  {
   "cell_type": "code",
   "execution_count": 74,
   "id": "4a3c8214",
   "metadata": {},
   "outputs": [],
   "source": [
    "df.rename(columns={'cp': 'Chest Pain Level','trestbps': 'Resting blood pressure', 'chol':'Serum Cholestoral level',\n",
    "                   'fbs':'Fasting blood sugar','restecg':'electocardiographic results','thalach':'Maximum Heart rate',\n",
    "                  'exang':'exercise induced angina','ca':'Number of major vessels','thal':'Thalassemia','oldpeak':'Peak exercising'}, inplace=True)"
   ]
  },
  {
   "cell_type": "code",
   "execution_count": 75,
   "id": "aad72566",
   "metadata": {},
   "outputs": [
    {
     "data": {
      "text/html": [
       "<div>\n",
       "<style scoped>\n",
       "    .dataframe tbody tr th:only-of-type {\n",
       "        vertical-align: middle;\n",
       "    }\n",
       "\n",
       "    .dataframe tbody tr th {\n",
       "        vertical-align: top;\n",
       "    }\n",
       "\n",
       "    .dataframe thead th {\n",
       "        text-align: right;\n",
       "    }\n",
       "</style>\n",
       "<table border=\"1\" class=\"dataframe\">\n",
       "  <thead>\n",
       "    <tr style=\"text-align: right;\">\n",
       "      <th></th>\n",
       "      <th>age</th>\n",
       "      <th>sex</th>\n",
       "      <th>Chest Pain Level</th>\n",
       "      <th>Resting blood pressure</th>\n",
       "      <th>Serum Cholestoral level</th>\n",
       "      <th>Fasting blood sugar</th>\n",
       "      <th>electocardiographic results</th>\n",
       "      <th>Maximum Heart rate</th>\n",
       "      <th>exercise induced angina</th>\n",
       "      <th>Peak exercising</th>\n",
       "      <th>slope</th>\n",
       "      <th>Number of major vessels</th>\n",
       "      <th>Thalassemia</th>\n",
       "      <th>target</th>\n",
       "    </tr>\n",
       "  </thead>\n",
       "  <tbody>\n",
       "    <tr>\n",
       "      <th>297</th>\n",
       "      <td>Ages 51 to 60</td>\n",
       "      <td>Male</td>\n",
       "      <td>No pain</td>\n",
       "      <td>resting blood pressure over 150</td>\n",
       "      <td>Cholesterol below 200</td>\n",
       "      <td>True</td>\n",
       "      <td>0</td>\n",
       "      <td>heart rate 75 to 100</td>\n",
       "      <td>no</td>\n",
       "      <td>st segment below 2.0</td>\n",
       "      <td>1</td>\n",
       "      <td>2</td>\n",
       "      <td>Normal</td>\n",
       "      <td>0</td>\n",
       "    </tr>\n",
       "    <tr>\n",
       "      <th>298</th>\n",
       "      <td>Ages 51 to 60</td>\n",
       "      <td>Female</td>\n",
       "      <td>No pain</td>\n",
       "      <td>resting blood pressure 100 to 150</td>\n",
       "      <td>Cholesterol 200 to 300</td>\n",
       "      <td>False</td>\n",
       "      <td>1</td>\n",
       "      <td>heart rate 100 to 125</td>\n",
       "      <td>yes</td>\n",
       "      <td>st segment below 2.0</td>\n",
       "      <td>1</td>\n",
       "      <td>0</td>\n",
       "      <td>reversable defect</td>\n",
       "      <td>0</td>\n",
       "    </tr>\n",
       "    <tr>\n",
       "      <th>300</th>\n",
       "      <td>Ages 61 to 70</td>\n",
       "      <td>Male</td>\n",
       "      <td>No pain</td>\n",
       "      <td>resting blood pressure 100 to 150</td>\n",
       "      <td>Cholesterol below 200</td>\n",
       "      <td>True</td>\n",
       "      <td>1</td>\n",
       "      <td>heart rate 125 to 150</td>\n",
       "      <td>no</td>\n",
       "      <td>st segment above 2.0</td>\n",
       "      <td>1</td>\n",
       "      <td>2</td>\n",
       "      <td>reversable defect</td>\n",
       "      <td>0</td>\n",
       "    </tr>\n",
       "    <tr>\n",
       "      <th>301</th>\n",
       "      <td>Ages 51 to 60</td>\n",
       "      <td>Male</td>\n",
       "      <td>No pain</td>\n",
       "      <td>resting blood pressure 100 to 150</td>\n",
       "      <td>Cholesterol below 200</td>\n",
       "      <td>False</td>\n",
       "      <td>1</td>\n",
       "      <td>heart rate 100 to 125</td>\n",
       "      <td>yes</td>\n",
       "      <td>st segment below 2.0</td>\n",
       "      <td>1</td>\n",
       "      <td>1</td>\n",
       "      <td>reversable defect</td>\n",
       "      <td>0</td>\n",
       "    </tr>\n",
       "    <tr>\n",
       "      <th>302</th>\n",
       "      <td>Ages 51 to 60</td>\n",
       "      <td>Female</td>\n",
       "      <td>Moderate pain</td>\n",
       "      <td>resting blood pressure 100 to 150</td>\n",
       "      <td>Cholesterol 200 to 300</td>\n",
       "      <td>False</td>\n",
       "      <td>0</td>\n",
       "      <td>heart rate above 150</td>\n",
       "      <td>no</td>\n",
       "      <td>st segment below 2.0</td>\n",
       "      <td>1</td>\n",
       "      <td>1</td>\n",
       "      <td>fixed defect</td>\n",
       "      <td>0</td>\n",
       "    </tr>\n",
       "  </tbody>\n",
       "</table>\n",
       "</div>"
      ],
      "text/plain": [
       "               age     sex Chest Pain Level  \\\n",
       "297  Ages 51 to 60    Male          No pain   \n",
       "298  Ages 51 to 60  Female          No pain   \n",
       "300  Ages 61 to 70    Male          No pain   \n",
       "301  Ages 51 to 60    Male          No pain   \n",
       "302  Ages 51 to 60  Female    Moderate pain   \n",
       "\n",
       "                Resting blood pressure Serum Cholestoral level  \\\n",
       "297    resting blood pressure over 150   Cholesterol below 200   \n",
       "298  resting blood pressure 100 to 150  Cholesterol 200 to 300   \n",
       "300  resting blood pressure 100 to 150   Cholesterol below 200   \n",
       "301  resting blood pressure 100 to 150   Cholesterol below 200   \n",
       "302  resting blood pressure 100 to 150  Cholesterol 200 to 300   \n",
       "\n",
       "    Fasting blood sugar  electocardiographic results     Maximum Heart rate  \\\n",
       "297                True                            0   heart rate 75 to 100   \n",
       "298               False                            1  heart rate 100 to 125   \n",
       "300                True                            1  heart rate 125 to 150   \n",
       "301               False                            1  heart rate 100 to 125   \n",
       "302               False                            0   heart rate above 150   \n",
       "\n",
       "    exercise induced angina       Peak exercising  slope  \\\n",
       "297                      no  st segment below 2.0      1   \n",
       "298                     yes  st segment below 2.0      1   \n",
       "300                      no  st segment above 2.0      1   \n",
       "301                     yes  st segment below 2.0      1   \n",
       "302                      no  st segment below 2.0      1   \n",
       "\n",
       "     Number of major vessels        Thalassemia  target  \n",
       "297                        2             Normal       0  \n",
       "298                        0  reversable defect       0  \n",
       "300                        2  reversable defect       0  \n",
       "301                        1  reversable defect       0  \n",
       "302                        1       fixed defect       0  "
      ]
     },
     "execution_count": 75,
     "metadata": {},
     "output_type": "execute_result"
    }
   ],
   "source": [
    "df.tail()"
   ]
  },
  {
   "cell_type": "code",
   "execution_count": 76,
   "id": "7879d32c",
   "metadata": {},
   "outputs": [
    {
     "data": {
      "text/plain": [
       "['age',\n",
       " 'sex',\n",
       " 'Chest Pain Level',\n",
       " 'Resting blood pressure',\n",
       " 'Serum Cholestoral level',\n",
       " 'Fasting blood sugar',\n",
       " 'electocardiographic results',\n",
       " 'Maximum Heart rate',\n",
       " 'exercise induced angina',\n",
       " 'Peak exercising',\n",
       " 'slope',\n",
       " 'Number of major vessels',\n",
       " 'Thalassemia',\n",
       " 'target']"
      ]
     },
     "execution_count": 76,
     "metadata": {},
     "output_type": "execute_result"
    }
   ],
   "source": [
    "list(df.columns)"
   ]
  },
  {
   "cell_type": "markdown",
   "id": "eb8b6b93",
   "metadata": {},
   "source": [
    "# Data Analysis"
   ]
  },
  {
   "cell_type": "markdown",
   "id": "70dca6d5",
   "metadata": {},
   "source": [
    "# Occurence of CVD across different ages"
   ]
  },
  {
   "cell_type": "code",
   "execution_count": 78,
   "id": "4875f815",
   "metadata": {},
   "outputs": [
    {
     "data": {
      "text/html": [
       "<div>\n",
       "<style scoped>\n",
       "    .dataframe tbody tr th:only-of-type {\n",
       "        vertical-align: middle;\n",
       "    }\n",
       "\n",
       "    .dataframe tbody tr th {\n",
       "        vertical-align: top;\n",
       "    }\n",
       "\n",
       "    .dataframe thead th {\n",
       "        text-align: right;\n",
       "    }\n",
       "</style>\n",
       "<table border=\"1\" class=\"dataframe\">\n",
       "  <thead>\n",
       "    <tr style=\"text-align: right;\">\n",
       "      <th></th>\n",
       "      <th>age</th>\n",
       "      <th>Number of major vessels</th>\n",
       "      <th>Maximum Heart rate</th>\n",
       "      <th>Count</th>\n",
       "    </tr>\n",
       "  </thead>\n",
       "  <tbody>\n",
       "    <tr>\n",
       "      <th>0</th>\n",
       "      <td>Ages 30 to 40</td>\n",
       "      <td>0</td>\n",
       "      <td>heart rate 100 to 125</td>\n",
       "      <td>1</td>\n",
       "    </tr>\n",
       "    <tr>\n",
       "      <th>1</th>\n",
       "      <td>Ages 30 to 40</td>\n",
       "      <td>0</td>\n",
       "      <td>heart rate 125 to 150</td>\n",
       "      <td>2</td>\n",
       "    </tr>\n",
       "    <tr>\n",
       "      <th>2</th>\n",
       "      <td>Ages 30 to 40</td>\n",
       "      <td>0</td>\n",
       "      <td>heart rate above 150</td>\n",
       "      <td>10</td>\n",
       "    </tr>\n",
       "    <tr>\n",
       "      <th>3</th>\n",
       "      <td>Ages 30 to 40</td>\n",
       "      <td>4</td>\n",
       "      <td>heart rate above 150</td>\n",
       "      <td>2</td>\n",
       "    </tr>\n",
       "    <tr>\n",
       "      <th>4</th>\n",
       "      <td>Ages 41 to 50</td>\n",
       "      <td>0</td>\n",
       "      <td>heart rate 100 to 125</td>\n",
       "      <td>2</td>\n",
       "    </tr>\n",
       "    <tr>\n",
       "      <th>5</th>\n",
       "      <td>Ages 41 to 50</td>\n",
       "      <td>0</td>\n",
       "      <td>heart rate 125 to 150</td>\n",
       "      <td>12</td>\n",
       "    </tr>\n",
       "    <tr>\n",
       "      <th>6</th>\n",
       "      <td>Ages 41 to 50</td>\n",
       "      <td>0</td>\n",
       "      <td>heart rate above 150</td>\n",
       "      <td>46</td>\n",
       "    </tr>\n",
       "    <tr>\n",
       "      <th>7</th>\n",
       "      <td>Ages 41 to 50</td>\n",
       "      <td>1</td>\n",
       "      <td>heart rate 100 to 125</td>\n",
       "      <td>1</td>\n",
       "    </tr>\n",
       "    <tr>\n",
       "      <th>8</th>\n",
       "      <td>Ages 41 to 50</td>\n",
       "      <td>1</td>\n",
       "      <td>heart rate 125 to 150</td>\n",
       "      <td>1</td>\n",
       "    </tr>\n",
       "    <tr>\n",
       "      <th>9</th>\n",
       "      <td>Ages 41 to 50</td>\n",
       "      <td>1</td>\n",
       "      <td>heart rate above 150</td>\n",
       "      <td>5</td>\n",
       "    </tr>\n",
       "    <tr>\n",
       "      <th>10</th>\n",
       "      <td>Ages 41 to 50</td>\n",
       "      <td>2</td>\n",
       "      <td>heart rate 100 to 125</td>\n",
       "      <td>1</td>\n",
       "    </tr>\n",
       "    <tr>\n",
       "      <th>11</th>\n",
       "      <td>Ages 41 to 50</td>\n",
       "      <td>2</td>\n",
       "      <td>heart rate above 150</td>\n",
       "      <td>2</td>\n",
       "    </tr>\n",
       "    <tr>\n",
       "      <th>12</th>\n",
       "      <td>Ages 41 to 50</td>\n",
       "      <td>3</td>\n",
       "      <td>heart rate 125 to 150</td>\n",
       "      <td>3</td>\n",
       "    </tr>\n",
       "    <tr>\n",
       "      <th>13</th>\n",
       "      <td>Ages 41 to 50</td>\n",
       "      <td>4</td>\n",
       "      <td>heart rate 125 to 150</td>\n",
       "      <td>1</td>\n",
       "    </tr>\n",
       "    <tr>\n",
       "      <th>14</th>\n",
       "      <td>Ages 51 to 60</td>\n",
       "      <td>0</td>\n",
       "      <td>heart rate 100 to 125</td>\n",
       "      <td>8</td>\n",
       "    </tr>\n",
       "    <tr>\n",
       "      <th>15</th>\n",
       "      <td>Ages 51 to 60</td>\n",
       "      <td>0</td>\n",
       "      <td>heart rate 125 to 150</td>\n",
       "      <td>11</td>\n",
       "    </tr>\n",
       "    <tr>\n",
       "      <th>16</th>\n",
       "      <td>Ages 51 to 60</td>\n",
       "      <td>0</td>\n",
       "      <td>heart rate 75 to 100</td>\n",
       "      <td>1</td>\n",
       "    </tr>\n",
       "    <tr>\n",
       "      <th>17</th>\n",
       "      <td>Ages 51 to 60</td>\n",
       "      <td>0</td>\n",
       "      <td>heart rate above 150</td>\n",
       "      <td>36</td>\n",
       "    </tr>\n",
       "    <tr>\n",
       "      <th>18</th>\n",
       "      <td>Ages 51 to 60</td>\n",
       "      <td>1</td>\n",
       "      <td>heart rate 100 to 125</td>\n",
       "      <td>7</td>\n",
       "    </tr>\n",
       "    <tr>\n",
       "      <th>19</th>\n",
       "      <td>Ages 51 to 60</td>\n",
       "      <td>1</td>\n",
       "      <td>heart rate 125 to 150</td>\n",
       "      <td>12</td>\n",
       "    </tr>\n",
       "    <tr>\n",
       "      <th>20</th>\n",
       "      <td>Ages 51 to 60</td>\n",
       "      <td>1</td>\n",
       "      <td>heart rate 75 to 100</td>\n",
       "      <td>1</td>\n",
       "    </tr>\n",
       "    <tr>\n",
       "      <th>21</th>\n",
       "      <td>Ages 51 to 60</td>\n",
       "      <td>1</td>\n",
       "      <td>heart rate above 150</td>\n",
       "      <td>17</td>\n",
       "    </tr>\n",
       "    <tr>\n",
       "      <th>22</th>\n",
       "      <td>Ages 51 to 60</td>\n",
       "      <td>2</td>\n",
       "      <td>heart rate 100 to 125</td>\n",
       "      <td>1</td>\n",
       "    </tr>\n",
       "    <tr>\n",
       "      <th>23</th>\n",
       "      <td>Ages 51 to 60</td>\n",
       "      <td>2</td>\n",
       "      <td>heart rate 125 to 150</td>\n",
       "      <td>5</td>\n",
       "    </tr>\n",
       "    <tr>\n",
       "      <th>24</th>\n",
       "      <td>Ages 51 to 60</td>\n",
       "      <td>2</td>\n",
       "      <td>heart rate 75 to 100</td>\n",
       "      <td>2</td>\n",
       "    </tr>\n",
       "    <tr>\n",
       "      <th>25</th>\n",
       "      <td>Ages 51 to 60</td>\n",
       "      <td>2</td>\n",
       "      <td>heart rate above 150</td>\n",
       "      <td>8</td>\n",
       "    </tr>\n",
       "    <tr>\n",
       "      <th>26</th>\n",
       "      <td>Ages 51 to 60</td>\n",
       "      <td>3</td>\n",
       "      <td>heart rate 100 to 125</td>\n",
       "      <td>2</td>\n",
       "    </tr>\n",
       "    <tr>\n",
       "      <th>27</th>\n",
       "      <td>Ages 51 to 60</td>\n",
       "      <td>3</td>\n",
       "      <td>heart rate 125 to 150</td>\n",
       "      <td>3</td>\n",
       "    </tr>\n",
       "    <tr>\n",
       "      <th>28</th>\n",
       "      <td>Ages 51 to 60</td>\n",
       "      <td>3</td>\n",
       "      <td>heart rate above 150</td>\n",
       "      <td>1</td>\n",
       "    </tr>\n",
       "    <tr>\n",
       "      <th>29</th>\n",
       "      <td>Ages 51 to 60</td>\n",
       "      <td>4</td>\n",
       "      <td>heart rate 125 to 150</td>\n",
       "      <td>1</td>\n",
       "    </tr>\n",
       "    <tr>\n",
       "      <th>30</th>\n",
       "      <td>Ages 51 to 60</td>\n",
       "      <td>4</td>\n",
       "      <td>heart rate above 150</td>\n",
       "      <td>1</td>\n",
       "    </tr>\n",
       "    <tr>\n",
       "      <th>31</th>\n",
       "      <td>Ages 61 to 70</td>\n",
       "      <td>0</td>\n",
       "      <td>heart rate 100 to 125</td>\n",
       "      <td>1</td>\n",
       "    </tr>\n",
       "    <tr>\n",
       "      <th>32</th>\n",
       "      <td>Ages 61 to 70</td>\n",
       "      <td>0</td>\n",
       "      <td>heart rate 125 to 150</td>\n",
       "      <td>11</td>\n",
       "    </tr>\n",
       "    <tr>\n",
       "      <th>33</th>\n",
       "      <td>Ages 61 to 70</td>\n",
       "      <td>0</td>\n",
       "      <td>heart rate above 150</td>\n",
       "      <td>13</td>\n",
       "    </tr>\n",
       "    <tr>\n",
       "      <th>34</th>\n",
       "      <td>Ages 61 to 70</td>\n",
       "      <td>1</td>\n",
       "      <td>heart rate 100 to 125</td>\n",
       "      <td>3</td>\n",
       "    </tr>\n",
       "    <tr>\n",
       "      <th>35</th>\n",
       "      <td>Ages 61 to 70</td>\n",
       "      <td>1</td>\n",
       "      <td>heart rate 125 to 150</td>\n",
       "      <td>6</td>\n",
       "    </tr>\n",
       "    <tr>\n",
       "      <th>36</th>\n",
       "      <td>Ages 61 to 70</td>\n",
       "      <td>1</td>\n",
       "      <td>heart rate 75 to 100</td>\n",
       "      <td>2</td>\n",
       "    </tr>\n",
       "    <tr>\n",
       "      <th>37</th>\n",
       "      <td>Ages 61 to 70</td>\n",
       "      <td>1</td>\n",
       "      <td>heart rate above 150</td>\n",
       "      <td>5</td>\n",
       "    </tr>\n",
       "    <tr>\n",
       "      <th>38</th>\n",
       "      <td>Ages 61 to 70</td>\n",
       "      <td>2</td>\n",
       "      <td>heart rate 100 to 125</td>\n",
       "      <td>1</td>\n",
       "    </tr>\n",
       "    <tr>\n",
       "      <th>39</th>\n",
       "      <td>Ages 61 to 70</td>\n",
       "      <td>2</td>\n",
       "      <td>heart rate 125 to 150</td>\n",
       "      <td>6</td>\n",
       "    </tr>\n",
       "    <tr>\n",
       "      <th>40</th>\n",
       "      <td>Ages 61 to 70</td>\n",
       "      <td>2</td>\n",
       "      <td>heart rate 75 to 100</td>\n",
       "      <td>1</td>\n",
       "    </tr>\n",
       "    <tr>\n",
       "      <th>41</th>\n",
       "      <td>Ages 61 to 70</td>\n",
       "      <td>2</td>\n",
       "      <td>heart rate above 150</td>\n",
       "      <td>6</td>\n",
       "    </tr>\n",
       "    <tr>\n",
       "      <th>42</th>\n",
       "      <td>Ages 61 to 70</td>\n",
       "      <td>3</td>\n",
       "      <td>heart rate 100 to 125</td>\n",
       "      <td>5</td>\n",
       "    </tr>\n",
       "    <tr>\n",
       "      <th>43</th>\n",
       "      <td>Ages 61 to 70</td>\n",
       "      <td>3</td>\n",
       "      <td>heart rate 125 to 150</td>\n",
       "      <td>4</td>\n",
       "    </tr>\n",
       "    <tr>\n",
       "      <th>44</th>\n",
       "      <td>Ages 61 to 70</td>\n",
       "      <td>3</td>\n",
       "      <td>heart rate above 150</td>\n",
       "      <td>1</td>\n",
       "    </tr>\n",
       "    <tr>\n",
       "      <th>45</th>\n",
       "      <td>Ages 71 and up</td>\n",
       "      <td>0</td>\n",
       "      <td>heart rate 100 to 125</td>\n",
       "      <td>1</td>\n",
       "    </tr>\n",
       "    <tr>\n",
       "      <th>46</th>\n",
       "      <td>Ages 71 and up</td>\n",
       "      <td>0</td>\n",
       "      <td>heart rate 125 to 150</td>\n",
       "      <td>1</td>\n",
       "    </tr>\n",
       "    <tr>\n",
       "      <th>47</th>\n",
       "      <td>Ages 71 and up</td>\n",
       "      <td>0</td>\n",
       "      <td>heart rate above 150</td>\n",
       "      <td>1</td>\n",
       "    </tr>\n",
       "    <tr>\n",
       "      <th>48</th>\n",
       "      <td>Ages 71 and up</td>\n",
       "      <td>1</td>\n",
       "      <td>heart rate 100 to 125</td>\n",
       "      <td>1</td>\n",
       "    </tr>\n",
       "    <tr>\n",
       "      <th>49</th>\n",
       "      <td>Ages 71 and up</td>\n",
       "      <td>1</td>\n",
       "      <td>heart rate 125 to 150</td>\n",
       "      <td>1</td>\n",
       "    </tr>\n",
       "    <tr>\n",
       "      <th>50</th>\n",
       "      <td>Ages 71 and up</td>\n",
       "      <td>2</td>\n",
       "      <td>heart rate above 150</td>\n",
       "      <td>1</td>\n",
       "    </tr>\n",
       "    <tr>\n",
       "      <th>51</th>\n",
       "      <td>Ages 71 and up</td>\n",
       "      <td>3</td>\n",
       "      <td>heart rate above 150</td>\n",
       "      <td>1</td>\n",
       "    </tr>\n",
       "  </tbody>\n",
       "</table>\n",
       "</div>"
      ],
      "text/plain": [
       "               age  Number of major vessels     Maximum Heart rate  Count\n",
       "0    Ages 30 to 40                        0  heart rate 100 to 125      1\n",
       "1    Ages 30 to 40                        0  heart rate 125 to 150      2\n",
       "2    Ages 30 to 40                        0   heart rate above 150     10\n",
       "3    Ages 30 to 40                        4   heart rate above 150      2\n",
       "4    Ages 41 to 50                        0  heart rate 100 to 125      2\n",
       "5    Ages 41 to 50                        0  heart rate 125 to 150     12\n",
       "6    Ages 41 to 50                        0   heart rate above 150     46\n",
       "7    Ages 41 to 50                        1  heart rate 100 to 125      1\n",
       "8    Ages 41 to 50                        1  heart rate 125 to 150      1\n",
       "9    Ages 41 to 50                        1   heart rate above 150      5\n",
       "10   Ages 41 to 50                        2  heart rate 100 to 125      1\n",
       "11   Ages 41 to 50                        2   heart rate above 150      2\n",
       "12   Ages 41 to 50                        3  heart rate 125 to 150      3\n",
       "13   Ages 41 to 50                        4  heart rate 125 to 150      1\n",
       "14   Ages 51 to 60                        0  heart rate 100 to 125      8\n",
       "15   Ages 51 to 60                        0  heart rate 125 to 150     11\n",
       "16   Ages 51 to 60                        0   heart rate 75 to 100      1\n",
       "17   Ages 51 to 60                        0   heart rate above 150     36\n",
       "18   Ages 51 to 60                        1  heart rate 100 to 125      7\n",
       "19   Ages 51 to 60                        1  heart rate 125 to 150     12\n",
       "20   Ages 51 to 60                        1   heart rate 75 to 100      1\n",
       "21   Ages 51 to 60                        1   heart rate above 150     17\n",
       "22   Ages 51 to 60                        2  heart rate 100 to 125      1\n",
       "23   Ages 51 to 60                        2  heart rate 125 to 150      5\n",
       "24   Ages 51 to 60                        2   heart rate 75 to 100      2\n",
       "25   Ages 51 to 60                        2   heart rate above 150      8\n",
       "26   Ages 51 to 60                        3  heart rate 100 to 125      2\n",
       "27   Ages 51 to 60                        3  heart rate 125 to 150      3\n",
       "28   Ages 51 to 60                        3   heart rate above 150      1\n",
       "29   Ages 51 to 60                        4  heart rate 125 to 150      1\n",
       "30   Ages 51 to 60                        4   heart rate above 150      1\n",
       "31   Ages 61 to 70                        0  heart rate 100 to 125      1\n",
       "32   Ages 61 to 70                        0  heart rate 125 to 150     11\n",
       "33   Ages 61 to 70                        0   heart rate above 150     13\n",
       "34   Ages 61 to 70                        1  heart rate 100 to 125      3\n",
       "35   Ages 61 to 70                        1  heart rate 125 to 150      6\n",
       "36   Ages 61 to 70                        1   heart rate 75 to 100      2\n",
       "37   Ages 61 to 70                        1   heart rate above 150      5\n",
       "38   Ages 61 to 70                        2  heart rate 100 to 125      1\n",
       "39   Ages 61 to 70                        2  heart rate 125 to 150      6\n",
       "40   Ages 61 to 70                        2   heart rate 75 to 100      1\n",
       "41   Ages 61 to 70                        2   heart rate above 150      6\n",
       "42   Ages 61 to 70                        3  heart rate 100 to 125      5\n",
       "43   Ages 61 to 70                        3  heart rate 125 to 150      4\n",
       "44   Ages 61 to 70                        3   heart rate above 150      1\n",
       "45  Ages 71 and up                        0  heart rate 100 to 125      1\n",
       "46  Ages 71 and up                        0  heart rate 125 to 150      1\n",
       "47  Ages 71 and up                        0   heart rate above 150      1\n",
       "48  Ages 71 and up                        1  heart rate 100 to 125      1\n",
       "49  Ages 71 and up                        1  heart rate 125 to 150      1\n",
       "50  Ages 71 and up                        2   heart rate above 150      1\n",
       "51  Ages 71 and up                        3   heart rate above 150      1"
      ]
     },
     "execution_count": 78,
     "metadata": {},
     "output_type": "execute_result"
    }
   ],
   "source": [
    "df.groupby([\"age\",\"Number of major vessels\",'Maximum Heart rate']).size().reset_index(name='Count')"
   ]
  },
  {
   "cell_type": "markdown",
   "id": "d2277263",
   "metadata": {},
   "source": [
    "# Heart attack based on resting blood pressure"
   ]
  },
  {
   "cell_type": "code",
   "execution_count": 80,
   "id": "784a0f9e",
   "metadata": {},
   "outputs": [
    {
     "data": {
      "text/html": [
       "<div>\n",
       "<style scoped>\n",
       "    .dataframe tbody tr th:only-of-type {\n",
       "        vertical-align: middle;\n",
       "    }\n",
       "\n",
       "    .dataframe tbody tr th {\n",
       "        vertical-align: top;\n",
       "    }\n",
       "\n",
       "    .dataframe thead th {\n",
       "        text-align: right;\n",
       "    }\n",
       "</style>\n",
       "<table border=\"1\" class=\"dataframe\">\n",
       "  <thead>\n",
       "    <tr style=\"text-align: right;\">\n",
       "      <th></th>\n",
       "      <th>Chest Pain Level</th>\n",
       "      <th>Resting blood pressure</th>\n",
       "      <th>Count</th>\n",
       "    </tr>\n",
       "  </thead>\n",
       "  <tbody>\n",
       "    <tr>\n",
       "      <th>0</th>\n",
       "      <td>Moderate pain</td>\n",
       "      <td>resting blood pressure 100 to 150</td>\n",
       "      <td>45</td>\n",
       "    </tr>\n",
       "    <tr>\n",
       "      <th>1</th>\n",
       "      <td>Moderate pain</td>\n",
       "      <td>resting blood pressure over 150</td>\n",
       "      <td>5</td>\n",
       "    </tr>\n",
       "    <tr>\n",
       "      <th>2</th>\n",
       "      <td>No pain</td>\n",
       "      <td>resting blood pressure 100 to 150</td>\n",
       "      <td>124</td>\n",
       "    </tr>\n",
       "    <tr>\n",
       "      <th>3</th>\n",
       "      <td>No pain</td>\n",
       "      <td>resting blood pressure below 100</td>\n",
       "      <td>3</td>\n",
       "    </tr>\n",
       "    <tr>\n",
       "      <th>4</th>\n",
       "      <td>No pain</td>\n",
       "      <td>resting blood pressure over 150</td>\n",
       "      <td>15</td>\n",
       "    </tr>\n",
       "    <tr>\n",
       "      <th>5</th>\n",
       "      <td>Severe Pain</td>\n",
       "      <td>resting blood pressure 100 to 150</td>\n",
       "      <td>75</td>\n",
       "    </tr>\n",
       "    <tr>\n",
       "      <th>6</th>\n",
       "      <td>Severe Pain</td>\n",
       "      <td>resting blood pressure below 100</td>\n",
       "      <td>3</td>\n",
       "    </tr>\n",
       "    <tr>\n",
       "      <th>7</th>\n",
       "      <td>Severe Pain</td>\n",
       "      <td>resting blood pressure over 150</td>\n",
       "      <td>8</td>\n",
       "    </tr>\n",
       "  </tbody>\n",
       "</table>\n",
       "</div>"
      ],
      "text/plain": [
       "  Chest Pain Level             Resting blood pressure  Count\n",
       "0    Moderate pain  resting blood pressure 100 to 150     45\n",
       "1    Moderate pain    resting blood pressure over 150      5\n",
       "2          No pain  resting blood pressure 100 to 150    124\n",
       "3          No pain   resting blood pressure below 100      3\n",
       "4          No pain    resting blood pressure over 150     15\n",
       "5      Severe Pain  resting blood pressure 100 to 150     75\n",
       "6      Severe Pain   resting blood pressure below 100      3\n",
       "7      Severe Pain    resting blood pressure over 150      8"
      ]
     },
     "execution_count": 80,
     "metadata": {},
     "output_type": "execute_result"
    }
   ],
   "source": [
    "df.groupby([\"Chest Pain Level\",\"Resting blood pressure\"]).size().reset_index(name='Count')"
   ]
  },
  {
   "cell_type": "markdown",
   "id": "d483c392",
   "metadata": {},
   "source": [
    "# Composition of overall patients with regards to gender"
   ]
  },
  {
   "cell_type": "code",
   "execution_count": 603,
   "id": "f58d6bdd",
   "metadata": {},
   "outputs": [
    {
     "data": {
      "text/html": [
       "<div>\n",
       "<style scoped>\n",
       "    .dataframe tbody tr th:only-of-type {\n",
       "        vertical-align: middle;\n",
       "    }\n",
       "\n",
       "    .dataframe tbody tr th {\n",
       "        vertical-align: top;\n",
       "    }\n",
       "\n",
       "    .dataframe thead th {\n",
       "        text-align: right;\n",
       "    }\n",
       "</style>\n",
       "<table border=\"1\" class=\"dataframe\">\n",
       "  <thead>\n",
       "    <tr style=\"text-align: right;\">\n",
       "      <th></th>\n",
       "      <th>age</th>\n",
       "      <th>sex</th>\n",
       "      <th>Count</th>\n",
       "    </tr>\n",
       "  </thead>\n",
       "  <tbody>\n",
       "    <tr>\n",
       "      <th>0</th>\n",
       "      <td>Ages 30 to 40</td>\n",
       "      <td>Female</td>\n",
       "      <td>5</td>\n",
       "    </tr>\n",
       "    <tr>\n",
       "      <th>1</th>\n",
       "      <td>Ages 30 to 40</td>\n",
       "      <td>Male</td>\n",
       "      <td>10</td>\n",
       "    </tr>\n",
       "    <tr>\n",
       "      <th>2</th>\n",
       "      <td>Ages 41 to 50</td>\n",
       "      <td>Female</td>\n",
       "      <td>22</td>\n",
       "    </tr>\n",
       "    <tr>\n",
       "      <th>3</th>\n",
       "      <td>Ages 41 to 50</td>\n",
       "      <td>Male</td>\n",
       "      <td>52</td>\n",
       "    </tr>\n",
       "    <tr>\n",
       "      <th>4</th>\n",
       "      <td>Ages 51 to 60</td>\n",
       "      <td>Female</td>\n",
       "      <td>32</td>\n",
       "    </tr>\n",
       "    <tr>\n",
       "      <th>5</th>\n",
       "      <td>Ages 51 to 60</td>\n",
       "      <td>Male</td>\n",
       "      <td>85</td>\n",
       "    </tr>\n",
       "    <tr>\n",
       "      <th>6</th>\n",
       "      <td>Ages 61 to 70</td>\n",
       "      <td>Female</td>\n",
       "      <td>27</td>\n",
       "    </tr>\n",
       "    <tr>\n",
       "      <th>7</th>\n",
       "      <td>Ages 61 to 70</td>\n",
       "      <td>Male</td>\n",
       "      <td>38</td>\n",
       "    </tr>\n",
       "    <tr>\n",
       "      <th>8</th>\n",
       "      <td>Ages 71 and up</td>\n",
       "      <td>Female</td>\n",
       "      <td>5</td>\n",
       "    </tr>\n",
       "    <tr>\n",
       "      <th>9</th>\n",
       "      <td>Ages 71 and up</td>\n",
       "      <td>Male</td>\n",
       "      <td>2</td>\n",
       "    </tr>\n",
       "  </tbody>\n",
       "</table>\n",
       "</div>"
      ],
      "text/plain": [
       "              age     sex  Count\n",
       "0   Ages 30 to 40  Female      5\n",
       "1   Ages 30 to 40    Male     10\n",
       "2   Ages 41 to 50  Female     22\n",
       "3   Ages 41 to 50    Male     52\n",
       "4   Ages 51 to 60  Female     32\n",
       "5   Ages 51 to 60    Male     85\n",
       "6   Ages 61 to 70  Female     27\n",
       "7   Ages 61 to 70    Male     38\n",
       "8  Ages 71 and up  Female      5\n",
       "9  Ages 71 and up    Male      2"
      ]
     },
     "execution_count": 603,
     "metadata": {},
     "output_type": "execute_result"
    }
   ],
   "source": [
    "df.groupby([\"age\",\"sex\"]).size().reset_index(name='Count')"
   ]
  },
  {
   "cell_type": "markdown",
   "id": "98c1002e",
   "metadata": {},
   "source": [
    "# Relationship betwen Cholesterol levels and target variables."
   ]
  },
  {
   "cell_type": "code",
   "execution_count": 605,
   "id": "9b235400",
   "metadata": {},
   "outputs": [
    {
     "data": {
      "text/plain": [
       "<AxesSubplot:xlabel='Serum Cholestoral level'>"
      ]
     },
     "execution_count": 605,
     "metadata": {},
     "output_type": "execute_result"
    },
    {
     "data": {
      "image/png": "[encoded data removed]",
      "text/plain": [
       "<Figure size 720x720 with 1 Axes>"
      ]
     },
     "metadata": {
      "needs_background": "light"
     },
     "output_type": "display_data"
    }
   ],
   "source": [
    "df.groupby(['Serum Cholestoral level','target']).size().unstack().plot(kind='bar',figsize=(10,10),fontsize=15,stacked=True)"
   ]
  },
  {
   "cell_type": "markdown",
   "id": "b7e44ad9",
   "metadata": {},
   "source": [
    "# relationship between peak exercising and occurence of heart attakcs."
   ]
  },
  {
   "cell_type": "code",
   "execution_count": 606,
   "id": "f7ee4758",
   "metadata": {},
   "outputs": [
    {
     "data": {
      "text/html": [
       "<div>\n",
       "<style scoped>\n",
       "    .dataframe tbody tr th:only-of-type {\n",
       "        vertical-align: middle;\n",
       "    }\n",
       "\n",
       "    .dataframe tbody tr th {\n",
       "        vertical-align: top;\n",
       "    }\n",
       "\n",
       "    .dataframe thead th {\n",
       "        text-align: right;\n",
       "    }\n",
       "</style>\n",
       "<table border=\"1\" class=\"dataframe\">\n",
       "  <thead>\n",
       "    <tr style=\"text-align: right;\">\n",
       "      <th></th>\n",
       "      <th>Peak exercising</th>\n",
       "      <th>Chest Pain Level</th>\n",
       "      <th>Count</th>\n",
       "    </tr>\n",
       "  </thead>\n",
       "  <tbody>\n",
       "    <tr>\n",
       "      <th>0</th>\n",
       "      <td>st segment above 2.0</td>\n",
       "      <td>No pain</td>\n",
       "      <td>43</td>\n",
       "    </tr>\n",
       "    <tr>\n",
       "      <th>1</th>\n",
       "      <td>st segment above 2.0</td>\n",
       "      <td>Severe Pain</td>\n",
       "      <td>11</td>\n",
       "    </tr>\n",
       "    <tr>\n",
       "      <th>2</th>\n",
       "      <td>st segment below 2.0</td>\n",
       "      <td>Moderate pain</td>\n",
       "      <td>50</td>\n",
       "    </tr>\n",
       "    <tr>\n",
       "      <th>3</th>\n",
       "      <td>st segment below 2.0</td>\n",
       "      <td>No pain</td>\n",
       "      <td>99</td>\n",
       "    </tr>\n",
       "    <tr>\n",
       "      <th>4</th>\n",
       "      <td>st segment below 2.0</td>\n",
       "      <td>Severe Pain</td>\n",
       "      <td>75</td>\n",
       "    </tr>\n",
       "  </tbody>\n",
       "</table>\n",
       "</div>"
      ],
      "text/plain": [
       "        Peak exercising Chest Pain Level  Count\n",
       "0  st segment above 2.0          No pain     43\n",
       "1  st segment above 2.0      Severe Pain     11\n",
       "2  st segment below 2.0    Moderate pain     50\n",
       "3  st segment below 2.0          No pain     99\n",
       "4  st segment below 2.0      Severe Pain     75"
      ]
     },
     "execution_count": 606,
     "metadata": {},
     "output_type": "execute_result"
    }
   ],
   "source": [
    "df.groupby([\"Peak exercising\",\"Chest Pain Level\"]).size().reset_index(name='Count')"
   ]
  },
  {
   "cell_type": "markdown",
   "id": "79fcb359",
   "metadata": {},
   "source": [
    "# Thalassemia and other factors determing the occurence of CVD."
   ]
  },
  {
   "cell_type": "code",
   "execution_count": 607,
   "id": "49b62516",
   "metadata": {},
   "outputs": [
    {
     "data": {
      "text/plain": [
       "<AxesSubplot:xlabel='Number of major vessels'>"
      ]
     },
     "execution_count": 607,
     "metadata": {},
     "output_type": "execute_result"
    },
    {
     "data": {
      "image/png": "[encoded data removed]",
      "text/plain": [
       "<Figure size 1080x1080 with 1 Axes>"
      ]
     },
     "metadata": {
      "needs_background": "light"
     },
     "output_type": "display_data"
    }
   ],
   "source": [
    "df.groupby(['Number of major vessels','Thalassemia']).size().unstack().plot(kind='bar',figsize=(15,15),fontsize=15,stacked=True)"
   ]
  },
  {
   "cell_type": "markdown",
   "id": "03064d99",
   "metadata": {},
   "source": [
    "# Relationship between all given variables. "
   ]
  },
  {
   "cell_type": "code",
   "execution_count": 608,
   "id": "9a71b16e",
   "metadata": {},
   "outputs": [
    {
     "data": {
      "text/plain": [
       "<seaborn.axisgrid.PairGrid at 0x2163262ea90>"
      ]
     },
     "execution_count": 608,
     "metadata": {},
     "output_type": "execute_result"
    },
    {
     "data": {
      "image/png": "[encoded data removed]",
      "text/plain": [
       "<Figure size 720x720 with 20 Axes>"
      ]
     },
     "metadata": {
      "needs_background": "light"
     },
     "output_type": "display_data"
    }
   ],
   "source": [
    "sns.pairplot(df,diag_kind='kde')"
   ]
  },
  {
   "cell_type": "code",
   "execution_count": 412,
   "id": "88f9a99b",
   "metadata": {},
   "outputs": [
    {
     "data": {
      "text/plain": [
       "Index(['age', 'sex', 'Chest Pain Level', 'Resting blood pressure',\n",
       "       'Serum Cholestoral level', 'Fasting blood sugar',\n",
       "       'electocardiographic results', 'Maximum Heart rate',\n",
       "       'exercise induced angina', 'Peak exercising', 'slope',\n",
       "       'Number of major vessels', 'Thalassemia', 'target'],\n",
       "      dtype='object')"
      ]
     },
     "execution_count": 412,
     "metadata": {},
     "output_type": "execute_result"
    }
   ],
   "source": [
    "df.columns"
   ]
  },
  {
   "cell_type": "code",
   "execution_count": 538,
   "id": "68db3786",
   "metadata": {},
   "outputs": [
    {
     "name": "stdout",
     "output_type": "stream",
     "text": [
      "<class 'pandas.core.frame.DataFrame'>\n",
      "Int64Index: 278 entries, 1 to 302\n",
      "Data columns (total 14 columns):\n",
      " #   Column                       Non-Null Count  Dtype \n",
      "---  ------                       --------------  ----- \n",
      " 0   age                          278 non-null    object\n",
      " 1   sex                          278 non-null    object\n",
      " 2   Chest Pain Level             278 non-null    object\n",
      " 3   Resting blood pressure       278 non-null    object\n",
      " 4   Serum Cholestoral level      278 non-null    object\n",
      " 5   Fasting blood sugar          278 non-null    object\n",
      " 6   electocardiographic results  278 non-null    int64 \n",
      " 7   Maximum Heart rate           278 non-null    object\n",
      " 8   exercise induced angina      278 non-null    object\n",
      " 9   Peak exercising              278 non-null    object\n",
      " 10  slope                        278 non-null    int64 \n",
      " 11  Number of major vessels      278 non-null    int64 \n",
      " 12  Thalassemia                  278 non-null    object\n",
      " 13  target                       278 non-null    int64 \n",
      "dtypes: int64(4), object(10)\n",
      "memory usage: 40.7+ KB\n"
     ]
    }
   ],
   "source": [
    "df.info()"
   ]
  },
  {
   "cell_type": "code",
   "execution_count": 632,
   "id": "9447ce8a",
   "metadata": {},
   "outputs": [
    {
     "data": {
      "text/plain": [
       "1    184\n",
       "2     94\n",
       "Name: exercise induced angina, dtype: int64"
      ]
     },
     "execution_count": 632,
     "metadata": {},
     "output_type": "execute_result"
    }
   ],
   "source": [
    "df['exercise induced angina'].value_counts()"
   ]
  },
  {
   "cell_type": "code",
   "execution_count": 633,
   "id": "b5d076cb",
   "metadata": {},
   "outputs": [
    {
     "data": {
      "text/plain": [
       "1    224\n",
       "2     54\n",
       "Name: Peak exercising, dtype: int64"
      ]
     },
     "execution_count": 633,
     "metadata": {},
     "output_type": "execute_result"
    }
   ],
   "source": [
    "df['Peak exercising'].value_counts()"
   ]
  },
  {
   "cell_type": "code",
   "execution_count": 634,
   "id": "592a3a21",
   "metadata": {},
   "outputs": [
    {
     "data": {
      "text/plain": [
       "1    153\n",
       "2    109\n",
       "3     16\n",
       "Name: Thalassemia, dtype: int64"
      ]
     },
     "execution_count": 634,
     "metadata": {},
     "output_type": "execute_result"
    }
   ],
   "source": [
    "df['Thalassemia'].value_counts()"
   ]
  },
  {
   "cell_type": "code",
   "execution_count": 662,
   "id": "c670087c",
   "metadata": {},
   "outputs": [
    {
     "data": {
      "text/plain": [
       "1    244\n",
       "2     28\n",
       "3      6\n",
       "Name: Resting blood pressure, dtype: int64"
      ]
     },
     "execution_count": 662,
     "metadata": {},
     "output_type": "execute_result"
    }
   ],
   "source": [
    "df['Resting blood pressure'].value_counts()"
   ]
  },
  {
   "cell_type": "code",
   "execution_count": 639,
   "id": "96bdd4df",
   "metadata": {},
   "outputs": [
    {
     "data": {
      "text/plain": [
       "1    188\n",
       "2     46\n",
       "3     39\n",
       "4      3\n",
       "5      2\n",
       "Name: Serum Cholestoral level, dtype: int64"
      ]
     },
     "execution_count": 639,
     "metadata": {},
     "output_type": "execute_result"
    }
   ],
   "source": [
    "df['Serum Cholestoral level'].value_counts()"
   ]
  },
  {
   "cell_type": "code",
   "execution_count": 640,
   "id": "ec3f5329",
   "metadata": {},
   "outputs": [
    {
     "data": {
      "text/plain": [
       "1    187\n",
       "2     91\n",
       "Name: sex, dtype: int64"
      ]
     },
     "execution_count": 640,
     "metadata": {},
     "output_type": "execute_result"
    }
   ],
   "source": [
    "df['sex'].value_counts()"
   ]
  },
  {
   "cell_type": "code",
   "execution_count": 641,
   "id": "15e33a1f",
   "metadata": {},
   "outputs": [
    {
     "data": {
      "text/plain": [
       "1    239\n",
       "2     39\n",
       "Name: Fasting blood sugar, dtype: int64"
      ]
     },
     "execution_count": 641,
     "metadata": {},
     "output_type": "execute_result"
    }
   ],
   "source": [
    "df['Fasting blood sugar'].value_counts()"
   ]
  },
  {
   "cell_type": "code",
   "execution_count": 642,
   "id": "a4264373",
   "metadata": {},
   "outputs": [
    {
     "data": {
      "text/plain": [
       "1    156\n",
       "2     80\n",
       "3     35\n",
       "4      7\n",
       "Name: Maximum Heart rate, dtype: int64"
      ]
     },
     "execution_count": 642,
     "metadata": {},
     "output_type": "execute_result"
    }
   ],
   "source": [
    "df['Maximum Heart rate'].value_counts()"
   ]
  },
  {
   "cell_type": "code",
   "execution_count": 643,
   "id": "da6db8bd",
   "metadata": {},
   "outputs": [
    {
     "data": {
      "text/plain": [
       "1    142\n",
       "2     86\n",
       "3     50\n",
       "Name: Chest Pain Level, dtype: int64"
      ]
     },
     "execution_count": 643,
     "metadata": {},
     "output_type": "execute_result"
    }
   ],
   "source": [
    "df['Chest Pain Level'].value_counts()"
   ]
  },
  {
   "cell_type": "code",
   "execution_count": 622,
   "id": "6868796e",
   "metadata": {},
   "outputs": [],
   "source": [
    "df['age'].replace('Ages 30 to 40',1, inplace=True)\n",
    "df['age'].replace('Ages 41 to 50',2, inplace=True)\n",
    "df['age'].replace('Ages 51 to 60', 3, inplace=True)\n",
    "df['age'].replace('Ages 61 to 70',4, inplace=True)\n",
    "df['age'].replace('Ages 71 and up',5, inplace=True)"
   ]
  },
  {
   "cell_type": "code",
   "execution_count": 638,
   "id": "44cf4f6d",
   "metadata": {},
   "outputs": [],
   "source": [
    "df['Serum Cholestoral level'].replace('Cholesterol 200 to 300',1, inplace=True)\n",
    "df['Serum Cholestoral level'].replace('Cholesterol below 200',2, inplace=True)\n",
    "df['Serum Cholestoral level'].replace('Cholesterol 300 to 400',3, inplace=True)\n",
    "df['Serum Cholestoral level'].replace('Cholesterol 400 to 500',4, inplace=True)\n",
    "df['Serum Cholestoral level'].replace('Cholesterol over 500',5, inplace=True)"
   ]
  },
  {
   "cell_type": "code",
   "execution_count": 625,
   "id": "4f65ff69",
   "metadata": {},
   "outputs": [],
   "source": [
    "df['Maximum Heart rate'].replace('heart rate above 150',1, inplace=True)\n",
    "df['Maximum Heart rate'].replace('heart rate 125 to 150',2, inplace=True)\n",
    "df['Maximum Heart rate'].replace('heart rate 100 to 125', 3, inplace=True)\n",
    "df['Maximum Heart rate'].replace('heart rate 75 to 100',4, inplace=True)"
   ]
  },
  {
   "cell_type": "code",
   "execution_count": 626,
   "id": "f5d1135d",
   "metadata": {},
   "outputs": [],
   "source": [
    "df['Chest Pain Level'].replace('No pain',1, inplace=True)\n",
    "df['Chest Pain Level'].replace('Severe Pain',2, inplace=True)\n",
    "df['Chest Pain Level'].replace('Moderate pain', 3, inplace=True)"
   ]
  },
  {
   "cell_type": "code",
   "execution_count": 627,
   "id": "d9105bdc",
   "metadata": {},
   "outputs": [],
   "source": [
    "df['Fasting blood sugar'].replace('False',1, inplace=True)\n",
    "df['Fasting blood sugar'].replace('True',2, inplace=True)"
   ]
  },
  {
   "cell_type": "code",
   "execution_count": 628,
   "id": "f8727f3d",
   "metadata": {},
   "outputs": [],
   "source": [
    "df['sex'].replace('Male',1, inplace=True)\n",
    "df['sex'].replace('Female',2, inplace=True)"
   ]
  },
  {
   "cell_type": "code",
   "execution_count": 629,
   "id": "057cdf91",
   "metadata": {},
   "outputs": [],
   "source": [
    "df['Thalassemia'].replace('fixed defect',1, inplace=True)\n",
    "df['Thalassemia'].replace('reversable defect',2, inplace=True)\n",
    "df['Thalassemia'].replace('Normal', 3, inplace=True)"
   ]
  },
  {
   "cell_type": "code",
   "execution_count": 679,
   "id": "ee0a13c8",
   "metadata": {},
   "outputs": [],
   "source": [
    "df['Resting blood pressure'].replace('resting blood pressure 100 to 150',1, inplace=True)\n",
    "df['Resting blood pressure'].replace('resting blood pressure over 150',2, inplace=True)\n",
    "df['Resting blood pressure'].replace('resting blood pressure below 100', 3, inplace=True)"
   ]
  },
  {
   "cell_type": "code",
   "execution_count": 630,
   "id": "1f60806f",
   "metadata": {},
   "outputs": [],
   "source": [
    "df['Peak exercising'].replace('st segment below 2.0',1, inplace=True)\n",
    "df['Peak exercising'].replace('st segment above 2.0',2, inplace=True)"
   ]
  },
  {
   "cell_type": "code",
   "execution_count": 631,
   "id": "97ff599d",
   "metadata": {},
   "outputs": [],
   "source": [
    "df['exercise induced angina'].replace('no',1, inplace=True)\n",
    "df['exercise induced angina'].replace('yes',2, inplace=True)"
   ]
  },
  {
   "cell_type": "code",
   "execution_count": 678,
   "id": "61d25315",
   "metadata": {},
   "outputs": [
    {
     "data": {
      "text/plain": [
       "age                            int64\n",
       "sex                            int64\n",
       "Chest Pain Level               int64\n",
       "Resting blood pressure         int64\n",
       "Serum Cholestoral level        int64\n",
       "Fasting blood sugar            int64\n",
       "electocardiographic results    int64\n",
       "Maximum Heart rate             int64\n",
       "exercise induced angina        int64\n",
       "Peak exercising                int64\n",
       "slope                          int64\n",
       "Number of major vessels        int64\n",
       "Thalassemia                    int64\n",
       "target                         int64\n",
       "dtype: object"
      ]
     },
     "execution_count": 678,
     "metadata": {},
     "output_type": "execute_result"
    }
   ],
   "source": [
    "dx=df.select_dtypes(include=['int64'])\n",
    "dx.dtypes"
   ]
  },
  {
   "cell_type": "markdown",
   "id": "4687596f",
   "metadata": {},
   "source": [
    "# logistic regression analysis"
   ]
  },
  {
   "cell_type": "code",
   "execution_count": 663,
   "id": "094a7bce",
   "metadata": {},
   "outputs": [
    {
     "data": {
      "text/plain": [
       "1    1\n",
       "2    2\n",
       "3    1\n",
       "4    2\n",
       "5    1\n",
       "Name: sex, dtype: int64"
      ]
     },
     "execution_count": 663,
     "metadata": {},
     "output_type": "execute_result"
    }
   ],
   "source": [
    "X = df.drop(['sex'],axis=1)\n",
    "X.head()\n",
    "Y = df['sex']\n",
    "Y.head()"
   ]
  },
  {
   "cell_type": "code",
   "execution_count": 680,
   "id": "cd800b8d",
   "metadata": {},
   "outputs": [],
   "source": [
    "from sklearn.model_selection import train_test_split"
   ]
  },
  {
   "cell_type": "code",
   "execution_count": 681,
   "id": "fbe2a69c",
   "metadata": {},
   "outputs": [],
   "source": [
    "X_train, X_test, y_train, y_test = train_test_split (X, y, test_size=0.2, random_state=1)"
   ]
  },
  {
   "cell_type": "code",
   "execution_count": 682,
   "id": "bff32222",
   "metadata": {},
   "outputs": [],
   "source": [
    "from sklearn.preprocessing import StandardScaler\n",
    "sc = StandardScaler()\n",
    "X_train = sc.fit_transform(X_train)\n",
    "X_test = sc.transform(X_test)"
   ]
  },
  {
   "cell_type": "code",
   "execution_count": 692,
   "id": "db785b55",
   "metadata": {},
   "outputs": [
    {
     "data": {
      "text/plain": [
       "LogisticRegression()"
      ]
     },
     "execution_count": 692,
     "metadata": {},
     "output_type": "execute_result"
    }
   ],
   "source": [
    "from sklearn.linear_model import LogisticRegression\n",
    "classifier = LogisticRegression()\n",
    "classifier.fit(X_train,y_train)"
   ]
  },
  {
   "cell_type": "code",
   "execution_count": 693,
   "id": "85244107",
   "metadata": {},
   "outputs": [
    {
     "data": {
      "text/plain": [
       "array([1, 1, 1, 1, 1, 1, 1, 2, 1, 1, 1, 1, 2, 1, 1, 1, 1, 2, 1, 2, 1, 1,\n",
       "       1, 2, 1, 1, 1, 1, 1, 1, 1, 1, 1, 1, 1, 1, 1, 2, 1, 1, 2, 2, 1, 1,\n",
       "       1, 1, 1, 1, 1, 1, 1, 1, 1, 1, 1, 1], dtype=int64)"
      ]
     },
     "execution_count": 693,
     "metadata": {},
     "output_type": "execute_result"
    }
   ],
   "source": [
    "y_pred = classifier.predict(X_test)\n",
    "y_pred"
   ]
  },
  {
   "cell_type": "code",
   "execution_count": 695,
   "id": "580ee864",
   "metadata": {},
   "outputs": [
    {
     "name": "stdout",
     "output_type": "stream",
     "text": [
      "[[0.71365036 0.28634964]\n",
      " [0.56613176 0.43386824]\n",
      " [0.76834924 0.23165076]\n",
      " [0.67225858 0.32774142]\n",
      " [0.8932544  0.1067456 ]\n",
      " [0.55594738 0.44405262]\n",
      " [0.68908586 0.31091414]\n",
      " [0.21981987 0.78018013]\n",
      " [0.55594738 0.44405262]\n",
      " [0.87508105 0.12491895]\n",
      " [0.63161138 0.36838862]\n",
      " [0.88282323 0.11717677]\n",
      " [0.18428948 0.81571052]\n",
      " [0.93234061 0.06765939]\n",
      " [0.92942772 0.07057228]\n",
      " [0.66340798 0.33659202]\n",
      " [0.87635731 0.12364269]\n",
      " [0.45136945 0.54863055]\n",
      " [0.6564689  0.3435311 ]\n",
      " [0.40288633 0.59711367]\n",
      " [0.67887171 0.32112829]\n",
      " [0.86312397 0.13687603]\n",
      " [0.92891265 0.07108735]\n",
      " [0.37623676 0.62376324]\n",
      " [0.97918845 0.02081155]\n",
      " [0.79908167 0.20091833]\n",
      " [0.78902977 0.21097023]\n",
      " [0.74156681 0.25843319]\n",
      " [0.84755507 0.15244493]\n",
      " [0.66340798 0.33659202]\n",
      " [0.77886997 0.22113003]\n",
      " [0.91969257 0.08030743]\n",
      " [0.77943337 0.22056663]\n",
      " [0.95157023 0.04842977]\n",
      " [0.68908586 0.31091414]\n",
      " [0.79424678 0.20575322]\n",
      " [0.93509601 0.06490399]\n",
      " [0.14095754 0.85904246]\n",
      " [0.54830132 0.45169868]\n",
      " [0.76340855 0.23659145]\n",
      " [0.29873505 0.70126495]\n",
      " [0.42976903 0.57023097]\n",
      " [0.7784293  0.2215707 ]\n",
      " [0.67130212 0.32869788]\n",
      " [0.68065137 0.31934863]\n",
      " [0.78136072 0.21863928]\n",
      " [0.71365036 0.28634964]\n",
      " [0.80799593 0.19200407]\n",
      " [0.62954543 0.37045457]\n",
      " [0.76204785 0.23795215]\n",
      " [0.67209385 0.32790615]\n",
      " [0.66715012 0.33284988]\n",
      " [0.68605763 0.31394237]\n",
      " [0.8141983  0.1858017 ]\n",
      " [0.96786181 0.03213819]\n",
      " [0.9229044  0.0770956 ]]\n"
     ]
    }
   ],
   "source": [
    "props = classifier.predict_proba(X_test)\n",
    "print (props)"
   ]
  },
  {
   "cell_type": "code",
   "execution_count": 696,
   "id": "659ac7f4",
   "metadata": {},
   "outputs": [
    {
     "name": "stdout",
     "output_type": "stream",
     "text": [
      "0.6607142857142857\n",
      "0.7645803698435276\n"
     ]
    }
   ],
   "source": [
    "from sklearn import metrics\n",
    "\n",
    "print (metrics.accuracy_score(y_test, y_pred))\n",
    "print (metrics.roc_auc_score(y_test, props[:, 1]))"
   ]
  },
  {
   "cell_type": "code",
   "execution_count": 700,
   "id": "86369709",
   "metadata": {},
   "outputs": [
    {
     "name": "stdout",
     "output_type": "stream",
     "text": [
      "[[33  4]\n",
      " [15  4]]\n"
     ]
    }
   ],
   "source": [
    "print (metrics.confusion_matrix(y_test, y_pred))"
   ]
  },
  {
   "cell_type": "code",
   "execution_count": 701,
   "id": "89251629",
   "metadata": {},
   "outputs": [],
   "source": [
    "import nbconvert as nb"
   ]
  },
  {
   "cell_type": "code",
   "execution_count": 703,
   "id": "fae1ae90",
   "metadata": {},
   "outputs": [
    {
     "ename": "SyntaxError",
     "evalue": "invalid syntax (1827601380.py, line 1)",
     "output_type": "error",
     "traceback": [
      "\u001b[1;36m  Input \u001b[1;32mIn [703]\u001b[1;36m\u001b[0m\n\u001b[1;33m    jupyter nbconvert --to pdf notebook.ipynb\u001b[0m\n\u001b[1;37m            ^\u001b[0m\n\u001b[1;31mSyntaxError\u001b[0m\u001b[1;31m:\u001b[0m invalid syntax\n"
     ]
    }
   ],
   "source": [
    "jupyter nbconvert --to pdf notebook.ipynb"
   ]
  },
  {
   "cell_type": "code",
   "execution_count": null,
   "id": "e2088a57",
   "metadata": {},
   "outputs": [],
   "source": []
  }
 ],
 "metadata": {
  "kernelspec": {
   "display_name": "Python 3 (ipykernel)",
   "language": "python",
   "name": "python3"
  },
  "language_info": {
   "codemirror_mode": {
    "name": "ipython",
    "version": 3
   },
   "file_extension": ".py",
   "mimetype": "text/x-python",
   "name": "python",
   "nbconvert_exporter": "python",
   "pygments_lexer": "ipython3",
   "version": "3.9.12"
  }
 },
 "nbformat": 4,
 "nbformat_minor": 5
}
